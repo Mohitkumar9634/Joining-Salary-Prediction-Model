{
 "cells": [
  {
   "cell_type": "markdown",
   "id": "edb3b36d-8df6-478e-9dce-af680d11d23f",
   "metadata": {},
   "source": [
    "## Machine Learning Project"
   ]
  },
  {
   "cell_type": "markdown",
   "id": "fe921a59-4625-4f61-a322-0d7729d5570d",
   "metadata": {},
   "source": [
    "## Questions"
   ]
  },
  {
   "cell_type": "markdown",
   "id": "755f94ee-c9f0-4832-93f4-dda32c321305",
   "metadata": {},
   "source": [
    "## 1. Your views about the problem statement?"
   ]
  },
  {
   "cell_type": "markdown",
   "id": "d89cf31b-f929-40cb-952d-fdc1e2c4db11",
   "metadata": {},
   "source": [
    "The problem lies in the fact that a company called TechWorks Consulting wants to create a machine learning model to determine the salaries of hired workers. It is very important for companies to ensure fair and fair wages for their employees. The machine learning model can provide objective data on this problem based on several factors such as college, experience, Role, previous CTC and academic records. My role as a data analyst is to create an effective machine learning model or approximate model and evaluate its performance."
   ]
  },
  {
   "cell_type": "markdown",
   "id": "4cb46dc7-fb3e-4ea4-a969-387f9559855e",
   "metadata": {},
   "source": [
    "## 2. What will be your approach to solving this task?"
   ]
  },
  {
   "cell_type": "markdown",
   "id": "179735c7-e0a0-4bb7-8430-a4836200b0f9",
   "metadata": {},
   "source": [
    "My approach to solving this task is as follows:"
   ]
  },
  {
   "cell_type": "markdown",
   "id": "acffcf21-b842-4889-b740-2be575e0bbc0",
   "metadata": {},
   "source": [
    "## 1. Data Preprocessing:"
   ]
  },
  {
   "cell_type": "markdown",
   "id": "901eebc3-4c5f-4116-8a79-ce075b7bd588",
   "metadata": {},
   "source": [
    "Convert \"College\" into a numerical data type based on the tier of the college.\n",
    "\n",
    "Convert the \"City\" field into numerical data (0 for non-metro, 1 for metro cities).\n",
    "\n",
    "Create dummy variable for \"Role\" fields.\n",
    "\n",
    "Perform Exploratory Data Analysis (EDA) and check for null values.\n",
    "\n",
    "Visualize various graphs to find outliers.\n",
    "\n",
    "Identify outliers using percentiles (e.g., 99th and 1st percentiles) and consider them as potential outliers.\n",
    "\n",
    "Treat outliers by replacing them with the mean if outliers are present."
   ]
  },
  {
   "cell_type": "markdown",
   "id": "9a71c4f8-ccf9-4779-a24a-9279a1aca58f",
   "metadata": {},
   "source": [
    "## 2. Model Selection:"
   ]
  },
  {
   "cell_type": "markdown",
   "id": "f679ca1f-3832-4130-aa5c-0e9a541a8feb",
   "metadata": {},
   "source": [
    "Choose an appropriate regression model for predicting salary.\n",
    "\n",
    "Consider regression models like Linear Regression, Ridge Regression, Lasso Regression, Decision Tree Regression, Random Forest Regressor, XG Boost Regressor, Bagging Regressor.\n",
    "\n",
    "I also do Standardisation of data for models.\n",
    "\n",
    "Try multiple models to assess their performance."
   ]
  },
  {
   "cell_type": "markdown",
   "id": "7f923da0-954d-4287-a88e-c9dff9c837fc",
   "metadata": {},
   "source": [
    "## 3. Model Training and Evaluation:"
   ]
  },
  {
   "cell_type": "markdown",
   "id": "947e135f-6350-48c1-965c-8268976b0222",
   "metadata": {},
   "source": [
    "Split the data into train and test datasets.\n",
    "Train the particular model on the training dataset.\n",
    "Evaluate the model's performance using metrics like R-Squared and Mean Squared Error.\n",
    "Select the model with the best performance."
   ]
  },
  {
   "cell_type": "markdown",
   "id": "60c8707e-7142-4c6f-81a6-740e99228e97",
   "metadata": {},
   "source": [
    "## 4. Model Optimization:"
   ]
  },
  {
   "cell_type": "markdown",
   "id": "508a803f-c017-4e9c-9316-bd30ae740b1b",
   "metadata": {},
   "source": [
    "Optimize the model with cross-validation and hyperparameters.\n",
    "\n",
    "For Ridge and Lasso Regression, use the validation curve to tune the hyperparameters.\n",
    "\n",
    "For Decision Tree Regression, Random Forest, XGB Regressor, Bagging Regressor use GridSearchCV with parameter grids for max depth, min sample split, and min sample leaf."
   ]
  },
  {
   "cell_type": "markdown",
   "id": "c095b9ce-8388-4f3a-8a84-fa61cdd321af",
   "metadata": {},
   "source": [
    "## 5. Conclusion or Result:"
   ]
  },
  {
   "cell_type": "markdown",
   "id": "1b3101ad-0e18-4b73-b6a0-ff46c523c240",
   "metadata": {},
   "source": [
    "After performing the all model and get the result I will choose the best model according to R2 score and Mean Squared Error (MSE).\n",
    "\n",
    "Model which have High R2 score and Less MSE is the best one."
   ]
  },
  {
   "cell_type": "markdown",
   "id": "6c59ebe4-b87c-40a2-940c-c630b7872814",
   "metadata": {},
   "source": [
    "## 3. What were the available ML model options you had to perform this task?"
   ]
  },
  {
   "cell_type": "markdown",
   "id": "6a608ede-2dc3-4cf8-a7e9-da39f056f1d9",
   "metadata": {},
   "source": [
    "For predicting employee salaries, we considered various regression models:\n",
    "\n",
    "For predicting employee salaries, we considered a range of regression models. Each model offers unique characteristics and advantages for different scenarios:"
   ]
  },
  {
   "cell_type": "markdown",
   "id": "8b0b3f21-e3ed-4136-955a-82ff2acb956d",
   "metadata": {},
   "source": [
    "## 1.Simple Linear Regression:\n",
    "\n",
    "Suitable when there's a straight forward, linear relationship between one feature and salary.\n",
    "\n",
    "## 2.Multiple Linear Regression:\n",
    "\n",
    "Useful when multiple features influence salary, allowing for more complex relationships to be considered.\n",
    "\n",
    "## 3.Ridge Regression:\n",
    "\n",
    "Prevents overfitting by adding a penalty term, making it ideal for handling multicollinearity among features.\n",
    "    \n",
    "## 4.Lasso Regression:\n",
    "\n",
    "Combats overfitting and aids feature selection by encouraging some features to have zero influence on salary prediction.\n",
    "    \n",
    "## 5.Decision Tree Regression:\n",
    "\n",
    "A non-linear model that captures complex relationships when the salary prediction is not linear.\n",
    "    \n",
    "## 6.Random Forest Regressor:\n",
    "\n",
    "An ensemble learning model that combines multiple decision trees to improve predictive performance.\n",
    "    \n",
    "## 7.XG Boost Regressor:\n",
    "\n",
    "A gradient boosting model known for its high predictive power and computational efficiency.\n",
    "    \n",
    "## 8.Bagging Regressor:\n",
    "\n",
    "Utilizes Bootstrap Aggregating to create an ensemble of multiple decision tree regressors for enhanced prediction accuracy."
   ]
  },
  {
   "cell_type": "markdown",
   "id": "7fc66c59-9c43-4f75-852a-dc8847e21b25",
   "metadata": {},
   "source": [
    "To determine the best model, I will test each item and estimate its performance using metrics such as mean-squared and mean squared error. The best predictive accuracy model will be chosen for future adaptation."
   ]
  },
  {
   "cell_type": "markdown",
   "id": "0dbbe021-a127-4bd4-adf8-e4d9e3da26c9",
   "metadata": {},
   "source": [
    "## 4. Which model’s performance is best and what could be the possible reason for that?"
   ]
  },
  {
   "cell_type": "markdown",
   "id": "7c09fbaa-a1ea-4a65-8066-f2a7c8d5d92c",
   "metadata": {},
   "source": [
    "## Random Forest Regressor:\n",
    "Best Hyperparameters:  {'max_depth': 30, 'min_samples_leaf': 2, 'min_samples_split': 5, 'n_estimators': 300}\n",
    "\n",
    "\n",
    "R-squared (R^2) - Train: 0.8973, Test: 0.6551\n",
    "\n",
    "\n",
    "Mean Squared Error (MSE) - Train: 16518254.6464, Test: 51174778.1652\n"
   ]
  },
  {
   "cell_type": "markdown",
   "id": "ce2231d9-4bb4-401d-b0cf-a0236e25ce91",
   "metadata": {},
   "source": [
    "## 5. What steps can you take to improve this selected model’s performance even further?"
   ]
  },
  {
   "cell_type": "markdown",
   "id": "e0cdc6f4-dd67-44ee-8840-01ae9255fef2",
   "metadata": {},
   "source": [
    "To further enhance the performance of the selected model, I took the following steps:\n",
    "\n",
    "## Validation Curve for Ridge and Lasso Regression:\n",
    "\n",
    "For Ridge regression, I used a validation curve to explore different values of alpha. This helped me identify the optimal alpha value that balances bias and variance effectively.\n",
    "\n",
    "The best alpha for Ridge regression was found to be approximately 10.72.\n",
    "\n",
    "For Lasso regression, a similar validation curve was employed to determine the best alpha. The optimal alpha for Lasso regression was approximately 86.97.\n",
    "\n",
    "These optimal alpha values are crucial for regularizing the model and preventing overfitting.\n",
    "\n",
    "## GridSearchCV for Tree Regression:\n",
    "\n",
    "To further improve the performance of the Decision Tree Regression model, I utilized GridSearchCV. This technique systematically searches through a range of hyperparameters to find the best combination that optimizes model performance.\n",
    "The best hyperparameters for the Decision Tree Regression model were identified as follows:\n",
    "\n",
    "'max_depth': 4\n",
    "\n",
    "'min_samples_leaf': 1\n",
    "\n",
    "'min_samples_split': 2\n",
    "\n",
    "Random Forest Regressor achieved the best hyperparameters with a max depth of 30 and 300 estimators.\n",
    "\n",
    "XG Boost Regressor was optimized with a learning rate of 0.01, max depth of 3, and 300 estimators.\n",
    "\n",
    "Bagging Regressor was configured with 200 decision tree estimators.\n",
    "\n",
    "By performing these steps, I have fine-tuned the model and optimized its hyperparameters to increase its efficiency and accuracy in making predictions."
   ]
  },
  {
   "cell_type": "markdown",
   "id": "015a4125-f8ec-4534-a700-b00a84fbecdc",
   "metadata": {},
   "source": [
    "## Importing necessary libraries"
   ]
  },
  {
   "cell_type": "code",
   "execution_count": 1,
   "id": "58cb85ee-33d7-48fd-ae81-daabf38d24cf",
   "metadata": {},
   "outputs": [],
   "source": [
    "import numpy as np\n",
    "import pandas as pd\n",
    "import seaborn as sns\n",
    "import matplotlib.pyplot as plt\n",
    "from sklearn.model_selection import train_test_split\n",
    "import statsmodels.api as sn\n",
    "from sklearn.linear_model import LinearRegression, Ridge, Lasso\n",
    "from sklearn.tree import DecisionTreeRegressor\n",
    "from sklearn.model_selection import validation_curve\n",
    "from sklearn.datasets import load_iris\n",
    "from sklearn.metrics import r2_score, mean_squared_error\n",
    "from sklearn import preprocessing\n",
    "from sklearn import tree\n",
    "from IPython.display import Image\n",
    "import pydotplus\n",
    "from sklearn.model_selection import GridSearchCV, cross_val_score\n",
    "from sklearn.ensemble import RandomForestRegressor, BaggingRegressor\n",
    "from xgboost import XGBRegressor"
   ]
  },
  {
   "cell_type": "markdown",
   "id": "f67a4a6e-8583-4298-8ffd-7a651e235360",
   "metadata": {},
   "source": [
    "## Import data"
   ]
  },
  {
   "cell_type": "code",
   "execution_count": 2,
   "id": "30412fd2-38f4-49f2-8e80-55bc5818b457",
   "metadata": {},
   "outputs": [],
   "source": [
    "# Load the dataset\n",
    "df=pd.read_csv(\"E:\\\\Internsala Data\\\\Machine_Learning\\\\Project\\\\ML case Study.csv\")\n",
    "college = pd.read_csv(\"E:\\\\Internsala Data\\\\Machine_Learning\\\\Project\\\\Colleges.csv\")\n",
    "cities = pd.read_csv(\"E:\\\\Internsala Data\\\\Machine_Learning\\\\Project\\\\cities.csv\")"
   ]
  },
  {
   "cell_type": "code",
   "execution_count": 3,
   "id": "3c15643e-239f-4c80-a7af-98a355052739",
   "metadata": {},
   "outputs": [
    {
     "data": {
      "text/html": [
       "<div>\n",
       "<style scoped>\n",
       "    .dataframe tbody tr th:only-of-type {\n",
       "        vertical-align: middle;\n",
       "    }\n",
       "\n",
       "    .dataframe tbody tr th {\n",
       "        vertical-align: top;\n",
       "    }\n",
       "\n",
       "    .dataframe thead th {\n",
       "        text-align: right;\n",
       "    }\n",
       "</style>\n",
       "<table border=\"1\" class=\"dataframe\">\n",
       "  <thead>\n",
       "    <tr style=\"text-align: right;\">\n",
       "      <th></th>\n",
       "      <th>College</th>\n",
       "      <th>City</th>\n",
       "      <th>Role</th>\n",
       "      <th>Previous CTC</th>\n",
       "      <th>Previous job change</th>\n",
       "      <th>Graduation Marks</th>\n",
       "      <th>EXP (Month)</th>\n",
       "      <th>CTC</th>\n",
       "    </tr>\n",
       "  </thead>\n",
       "  <tbody>\n",
       "    <tr>\n",
       "      <th>0</th>\n",
       "      <td>SVNIT Surat</td>\n",
       "      <td>Asansol</td>\n",
       "      <td>Manager</td>\n",
       "      <td>55523.0</td>\n",
       "      <td>3</td>\n",
       "      <td>66</td>\n",
       "      <td>19</td>\n",
       "      <td>71406.58</td>\n",
       "    </tr>\n",
       "    <tr>\n",
       "      <th>1</th>\n",
       "      <td>NIT Bhopal</td>\n",
       "      <td>Ajmer</td>\n",
       "      <td>Executive</td>\n",
       "      <td>57081.0</td>\n",
       "      <td>1</td>\n",
       "      <td>84</td>\n",
       "      <td>18</td>\n",
       "      <td>68005.87</td>\n",
       "    </tr>\n",
       "    <tr>\n",
       "      <th>2</th>\n",
       "      <td>IEM, Kolkata</td>\n",
       "      <td>Rajpur Sonarpur</td>\n",
       "      <td>Executive</td>\n",
       "      <td>60347.0</td>\n",
       "      <td>2</td>\n",
       "      <td>52</td>\n",
       "      <td>28</td>\n",
       "      <td>76764.02</td>\n",
       "    </tr>\n",
       "    <tr>\n",
       "      <th>3</th>\n",
       "      <td>KIIT, Bhubaneswar</td>\n",
       "      <td>Ajmer</td>\n",
       "      <td>Executive</td>\n",
       "      <td>49010.0</td>\n",
       "      <td>2</td>\n",
       "      <td>81</td>\n",
       "      <td>33</td>\n",
       "      <td>82092.39</td>\n",
       "    </tr>\n",
       "    <tr>\n",
       "      <th>4</th>\n",
       "      <td>DTU</td>\n",
       "      <td>Durgapur</td>\n",
       "      <td>Executive</td>\n",
       "      <td>57879.0</td>\n",
       "      <td>4</td>\n",
       "      <td>74</td>\n",
       "      <td>32</td>\n",
       "      <td>73878.10</td>\n",
       "    </tr>\n",
       "  </tbody>\n",
       "</table>\n",
       "</div>"
      ],
      "text/plain": [
       "             College             City       Role  Previous CTC  \\\n",
       "0        SVNIT Surat          Asansol    Manager       55523.0   \n",
       "1         NIT Bhopal            Ajmer  Executive       57081.0   \n",
       "2       IEM, Kolkata  Rajpur Sonarpur  Executive       60347.0   \n",
       "3  KIIT, Bhubaneswar            Ajmer  Executive       49010.0   \n",
       "4                DTU         Durgapur  Executive       57879.0   \n",
       "\n",
       "   Previous job change  Graduation Marks  EXP (Month)       CTC  \n",
       "0                    3                66           19  71406.58  \n",
       "1                    1                84           18  68005.87  \n",
       "2                    2                52           28  76764.02  \n",
       "3                    2                81           33  82092.39  \n",
       "4                    4                74           32  73878.10  "
      ]
     },
     "execution_count": 3,
     "metadata": {},
     "output_type": "execute_result"
    }
   ],
   "source": [
    "# Display the first few rows of the dataset to understand its structure\n",
    "df.head()"
   ]
  },
  {
   "cell_type": "code",
   "execution_count": 4,
   "id": "e4f81a9c-17a2-42de-9c5e-07c6f97a7f9d",
   "metadata": {},
   "outputs": [
    {
     "data": {
      "text/html": [
       "<div>\n",
       "<style scoped>\n",
       "    .dataframe tbody tr th:only-of-type {\n",
       "        vertical-align: middle;\n",
       "    }\n",
       "\n",
       "    .dataframe tbody tr th {\n",
       "        vertical-align: top;\n",
       "    }\n",
       "\n",
       "    .dataframe thead th {\n",
       "        text-align: right;\n",
       "    }\n",
       "</style>\n",
       "<table border=\"1\" class=\"dataframe\">\n",
       "  <thead>\n",
       "    <tr style=\"text-align: right;\">\n",
       "      <th></th>\n",
       "      <th>Tier 1</th>\n",
       "      <th>Tier 2</th>\n",
       "      <th>Tier 3</th>\n",
       "    </tr>\n",
       "  </thead>\n",
       "  <tbody>\n",
       "    <tr>\n",
       "      <th>0</th>\n",
       "      <td>IIT Bombay</td>\n",
       "      <td>IIIT Bangalore</td>\n",
       "      <td>Ramaiah Institute of Technology, Bengaluru</td>\n",
       "    </tr>\n",
       "    <tr>\n",
       "      <th>1</th>\n",
       "      <td>IIT Delhi</td>\n",
       "      <td>IIIT Delhi</td>\n",
       "      <td>TIET/Thapar University</td>\n",
       "    </tr>\n",
       "    <tr>\n",
       "      <th>2</th>\n",
       "      <td>IIT Kharagpur</td>\n",
       "      <td>IGDTUW</td>\n",
       "      <td>Manipal Main Campus</td>\n",
       "    </tr>\n",
       "    <tr>\n",
       "      <th>3</th>\n",
       "      <td>IIT Madras</td>\n",
       "      <td>NIT Calicut</td>\n",
       "      <td>VIT Vellore</td>\n",
       "    </tr>\n",
       "    <tr>\n",
       "      <th>4</th>\n",
       "      <td>IIT Kanpur</td>\n",
       "      <td>IIITM Gwalior</td>\n",
       "      <td>SRM Main Campus</td>\n",
       "    </tr>\n",
       "  </tbody>\n",
       "</table>\n",
       "</div>"
      ],
      "text/plain": [
       "          Tier 1          Tier 2                                      Tier 3\n",
       "0     IIT Bombay  IIIT Bangalore  Ramaiah Institute of Technology, Bengaluru\n",
       "1      IIT Delhi      IIIT Delhi                      TIET/Thapar University\n",
       "2  IIT Kharagpur          IGDTUW                         Manipal Main Campus\n",
       "3     IIT Madras     NIT Calicut                                 VIT Vellore\n",
       "4     IIT Kanpur   IIITM Gwalior                             SRM Main Campus"
      ]
     },
     "execution_count": 4,
     "metadata": {},
     "output_type": "execute_result"
    }
   ],
   "source": [
    "# Display the first few rows of the college dataset to understand its structure\n",
    "college.head()"
   ]
  },
  {
   "cell_type": "code",
   "execution_count": 5,
   "id": "910474d2-fb90-4006-abe7-14b40fb8a909",
   "metadata": {},
   "outputs": [
    {
     "data": {
      "text/html": [
       "<div>\n",
       "<style scoped>\n",
       "    .dataframe tbody tr th:only-of-type {\n",
       "        vertical-align: middle;\n",
       "    }\n",
       "\n",
       "    .dataframe tbody tr th {\n",
       "        vertical-align: top;\n",
       "    }\n",
       "\n",
       "    .dataframe thead th {\n",
       "        text-align: right;\n",
       "    }\n",
       "</style>\n",
       "<table border=\"1\" class=\"dataframe\">\n",
       "  <thead>\n",
       "    <tr style=\"text-align: right;\">\n",
       "      <th></th>\n",
       "      <th>Metrio City</th>\n",
       "      <th>non-metro cities</th>\n",
       "    </tr>\n",
       "  </thead>\n",
       "  <tbody>\n",
       "    <tr>\n",
       "      <th>0</th>\n",
       "      <td>Mumbai</td>\n",
       "      <td>Dehradun</td>\n",
       "    </tr>\n",
       "    <tr>\n",
       "      <th>1</th>\n",
       "      <td>Delhi</td>\n",
       "      <td>Durgapur</td>\n",
       "    </tr>\n",
       "    <tr>\n",
       "      <th>2</th>\n",
       "      <td>Kolkata</td>\n",
       "      <td>Asansol</td>\n",
       "    </tr>\n",
       "    <tr>\n",
       "      <th>3</th>\n",
       "      <td>Chennai</td>\n",
       "      <td>Rourkela</td>\n",
       "    </tr>\n",
       "    <tr>\n",
       "      <th>4</th>\n",
       "      <td>Bangalore</td>\n",
       "      <td>Kozhikode</td>\n",
       "    </tr>\n",
       "  </tbody>\n",
       "</table>\n",
       "</div>"
      ],
      "text/plain": [
       "  Metrio City non-metro cities\n",
       "0      Mumbai         Dehradun\n",
       "1       Delhi         Durgapur\n",
       "2     Kolkata          Asansol\n",
       "3     Chennai         Rourkela\n",
       "4   Bangalore        Kozhikode"
      ]
     },
     "execution_count": 5,
     "metadata": {},
     "output_type": "execute_result"
    }
   ],
   "source": [
    "# Display the first few rows of the cities dataset to understand its structure\n",
    "cities.head()"
   ]
  },
  {
   "cell_type": "markdown",
   "id": "dbab99c2-0291-4bd1-a7ab-5217662fa288",
   "metadata": {},
   "source": [
    "## Extract Data"
   ]
  },
  {
   "cell_type": "code",
   "execution_count": 6,
   "id": "b39099e0-639f-48d2-a422-25661fffd4ce",
   "metadata": {},
   "outputs": [
    {
     "data": {
      "text/plain": [
       "['IIT Bombay',\n",
       " 'IIT Delhi',\n",
       " 'IIT Kharagpur',\n",
       " 'IIT Madras',\n",
       " 'IIT Kanpur',\n",
       " 'IIT Roorkee',\n",
       " 'IIT Guwahati',\n",
       " 'IIIT Hyderabad',\n",
       " 'BITS Pilani (Pilani Campus)',\n",
       " 'IIT Indore',\n",
       " 'IIT Ropar',\n",
       " 'IIT BHU (Varanasi)',\n",
       " 'IIT ISM Dhanbad',\n",
       " 'DTU',\n",
       " 'NSUT Delhi (NSIT)',\n",
       " 'NIT Tiruchipally (Trichy)',\n",
       " 'NIT Warangal',\n",
       " 'NIT Surathkal (Karnataka)',\n",
       " 'Jadavpur University',\n",
       " 'BITS Pilani (Hyderabad Campus)',\n",
       " 'BITS Pilani (Goa Campus)',\n",
       " 'IIIT Allahabad',\n",
       " nan,\n",
       " nan,\n",
       " nan,\n",
       " nan,\n",
       " nan,\n",
       " nan]"
      ]
     },
     "execution_count": 6,
     "metadata": {},
     "output_type": "execute_result"
    }
   ],
   "source": [
    "# Extract data in separate lists Tier1, Tier2, and Tier3 for further analysis.\n",
    "Tier1 = college[\"Tier 1\"].tolist()\n",
    "Tier2 = college[\"Tier 2\"].tolist()\n",
    "Tier3 = college[\"Tier 3\"].tolist()\n",
    "# Display the Tier1 dataset\n",
    "Tier1"
   ]
  },
  {
   "cell_type": "code",
   "execution_count": 7,
   "id": "b358d6b8-c020-4733-acb0-a8be4675764f",
   "metadata": {},
   "outputs": [],
   "source": [
    "# Assign tier values to colleges in the DataFrame based on their tier classification\n",
    "# - If a college is in 'Tier1', set its value to 1\n",
    "# - If a college is in 'Tier2', set its value to 2\n",
    "# - If a college is in 'Tier3', set its value to 3\n",
    "for item in df.College:\n",
    "    if item in Tier1:\n",
    "        df[\"College\"].replace(item,1,inplace=True)\n",
    "    elif item in Tier2:\n",
    "        df[\"College\"].replace(item,2,inplace=True)\n",
    "    elif item in Tier3:\n",
    "        df[\"College\"].replace(item,3,inplace=True)"
   ]
  },
  {
   "cell_type": "code",
   "execution_count": 8,
   "id": "d5e16527-d0b2-43ee-a835-e135b2c588b9",
   "metadata": {},
   "outputs": [
    {
     "data": {
      "text/html": [
       "<div>\n",
       "<style scoped>\n",
       "    .dataframe tbody tr th:only-of-type {\n",
       "        vertical-align: middle;\n",
       "    }\n",
       "\n",
       "    .dataframe tbody tr th {\n",
       "        vertical-align: top;\n",
       "    }\n",
       "\n",
       "    .dataframe thead th {\n",
       "        text-align: right;\n",
       "    }\n",
       "</style>\n",
       "<table border=\"1\" class=\"dataframe\">\n",
       "  <thead>\n",
       "    <tr style=\"text-align: right;\">\n",
       "      <th></th>\n",
       "      <th>College</th>\n",
       "      <th>City</th>\n",
       "      <th>Role</th>\n",
       "      <th>Previous CTC</th>\n",
       "      <th>Previous job change</th>\n",
       "      <th>Graduation Marks</th>\n",
       "      <th>EXP (Month)</th>\n",
       "      <th>CTC</th>\n",
       "    </tr>\n",
       "  </thead>\n",
       "  <tbody>\n",
       "    <tr>\n",
       "      <th>0</th>\n",
       "      <td>2</td>\n",
       "      <td>Asansol</td>\n",
       "      <td>Manager</td>\n",
       "      <td>55523.0</td>\n",
       "      <td>3</td>\n",
       "      <td>66</td>\n",
       "      <td>19</td>\n",
       "      <td>71406.58</td>\n",
       "    </tr>\n",
       "    <tr>\n",
       "      <th>1</th>\n",
       "      <td>2</td>\n",
       "      <td>Ajmer</td>\n",
       "      <td>Executive</td>\n",
       "      <td>57081.0</td>\n",
       "      <td>1</td>\n",
       "      <td>84</td>\n",
       "      <td>18</td>\n",
       "      <td>68005.87</td>\n",
       "    </tr>\n",
       "    <tr>\n",
       "      <th>2</th>\n",
       "      <td>3</td>\n",
       "      <td>Rajpur Sonarpur</td>\n",
       "      <td>Executive</td>\n",
       "      <td>60347.0</td>\n",
       "      <td>2</td>\n",
       "      <td>52</td>\n",
       "      <td>28</td>\n",
       "      <td>76764.02</td>\n",
       "    </tr>\n",
       "    <tr>\n",
       "      <th>3</th>\n",
       "      <td>3</td>\n",
       "      <td>Ajmer</td>\n",
       "      <td>Executive</td>\n",
       "      <td>49010.0</td>\n",
       "      <td>2</td>\n",
       "      <td>81</td>\n",
       "      <td>33</td>\n",
       "      <td>82092.39</td>\n",
       "    </tr>\n",
       "    <tr>\n",
       "      <th>4</th>\n",
       "      <td>1</td>\n",
       "      <td>Durgapur</td>\n",
       "      <td>Executive</td>\n",
       "      <td>57879.0</td>\n",
       "      <td>4</td>\n",
       "      <td>74</td>\n",
       "      <td>32</td>\n",
       "      <td>73878.10</td>\n",
       "    </tr>\n",
       "  </tbody>\n",
       "</table>\n",
       "</div>"
      ],
      "text/plain": [
       "   College             City       Role  Previous CTC  Previous job change  \\\n",
       "0        2          Asansol    Manager       55523.0                    3   \n",
       "1        2            Ajmer  Executive       57081.0                    1   \n",
       "2        3  Rajpur Sonarpur  Executive       60347.0                    2   \n",
       "3        3            Ajmer  Executive       49010.0                    2   \n",
       "4        1         Durgapur  Executive       57879.0                    4   \n",
       "\n",
       "   Graduation Marks  EXP (Month)       CTC  \n",
       "0                66           19  71406.58  \n",
       "1                84           18  68005.87  \n",
       "2                52           28  76764.02  \n",
       "3                81           33  82092.39  \n",
       "4                74           32  73878.10  "
      ]
     },
     "execution_count": 8,
     "metadata": {},
     "output_type": "execute_result"
    }
   ],
   "source": [
    "df.head()"
   ]
  },
  {
   "cell_type": "code",
   "execution_count": 9,
   "id": "7b87e901-ee06-4fcd-a541-3d2c30ffb608",
   "metadata": {},
   "outputs": [],
   "source": [
    "# Extracting lists of metropolitan and non-metropolitan cities from the 'cities' DataFrame\n",
    "metro = cities['Metrio City'].tolist()\n",
    "non_metro_cities = cities['non-metro cities'].tolist()"
   ]
  },
  {
   "cell_type": "code",
   "execution_count": 10,
   "id": "62841d24-58bc-4450-b59c-740a009b8fd8",
   "metadata": {},
   "outputs": [],
   "source": [
    "# Repeating previpus steps and assigning value as 1 if city is merto and 0 if non metro\n",
    "for item in df.City:\n",
    "    if item in metro:\n",
    "        df['City'].replace(item,1,inplace=True)\n",
    "    elif item in non_metro_cities:\n",
    "        df['City'].replace(item,0,inplace=True)"
   ]
  },
  {
   "cell_type": "code",
   "execution_count": 11,
   "id": "1e319df2-f384-482f-9361-d9fe95a1c57b",
   "metadata": {},
   "outputs": [
    {
     "data": {
      "text/html": [
       "<div>\n",
       "<style scoped>\n",
       "    .dataframe tbody tr th:only-of-type {\n",
       "        vertical-align: middle;\n",
       "    }\n",
       "\n",
       "    .dataframe tbody tr th {\n",
       "        vertical-align: top;\n",
       "    }\n",
       "\n",
       "    .dataframe thead th {\n",
       "        text-align: right;\n",
       "    }\n",
       "</style>\n",
       "<table border=\"1\" class=\"dataframe\">\n",
       "  <thead>\n",
       "    <tr style=\"text-align: right;\">\n",
       "      <th></th>\n",
       "      <th>College</th>\n",
       "      <th>City</th>\n",
       "      <th>Role</th>\n",
       "      <th>Previous CTC</th>\n",
       "      <th>Previous job change</th>\n",
       "      <th>Graduation Marks</th>\n",
       "      <th>EXP (Month)</th>\n",
       "      <th>CTC</th>\n",
       "    </tr>\n",
       "  </thead>\n",
       "  <tbody>\n",
       "    <tr>\n",
       "      <th>0</th>\n",
       "      <td>2</td>\n",
       "      <td>0</td>\n",
       "      <td>Manager</td>\n",
       "      <td>55523.0</td>\n",
       "      <td>3</td>\n",
       "      <td>66</td>\n",
       "      <td>19</td>\n",
       "      <td>71406.58</td>\n",
       "    </tr>\n",
       "    <tr>\n",
       "      <th>1</th>\n",
       "      <td>2</td>\n",
       "      <td>0</td>\n",
       "      <td>Executive</td>\n",
       "      <td>57081.0</td>\n",
       "      <td>1</td>\n",
       "      <td>84</td>\n",
       "      <td>18</td>\n",
       "      <td>68005.87</td>\n",
       "    </tr>\n",
       "    <tr>\n",
       "      <th>2</th>\n",
       "      <td>3</td>\n",
       "      <td>0</td>\n",
       "      <td>Executive</td>\n",
       "      <td>60347.0</td>\n",
       "      <td>2</td>\n",
       "      <td>52</td>\n",
       "      <td>28</td>\n",
       "      <td>76764.02</td>\n",
       "    </tr>\n",
       "    <tr>\n",
       "      <th>3</th>\n",
       "      <td>3</td>\n",
       "      <td>0</td>\n",
       "      <td>Executive</td>\n",
       "      <td>49010.0</td>\n",
       "      <td>2</td>\n",
       "      <td>81</td>\n",
       "      <td>33</td>\n",
       "      <td>82092.39</td>\n",
       "    </tr>\n",
       "    <tr>\n",
       "      <th>4</th>\n",
       "      <td>1</td>\n",
       "      <td>0</td>\n",
       "      <td>Executive</td>\n",
       "      <td>57879.0</td>\n",
       "      <td>4</td>\n",
       "      <td>74</td>\n",
       "      <td>32</td>\n",
       "      <td>73878.10</td>\n",
       "    </tr>\n",
       "  </tbody>\n",
       "</table>\n",
       "</div>"
      ],
      "text/plain": [
       "   College  City       Role  Previous CTC  Previous job change  \\\n",
       "0        2     0    Manager       55523.0                    3   \n",
       "1        2     0  Executive       57081.0                    1   \n",
       "2        3     0  Executive       60347.0                    2   \n",
       "3        3     0  Executive       49010.0                    2   \n",
       "4        1     0  Executive       57879.0                    4   \n",
       "\n",
       "   Graduation Marks  EXP (Month)       CTC  \n",
       "0                66           19  71406.58  \n",
       "1                84           18  68005.87  \n",
       "2                52           28  76764.02  \n",
       "3                81           33  82092.39  \n",
       "4                74           32  73878.10  "
      ]
     },
     "execution_count": 11,
     "metadata": {},
     "output_type": "execute_result"
    }
   ],
   "source": [
    "df.head()"
   ]
  },
  {
   "cell_type": "markdown",
   "id": "8ee0286a-5e18-4bef-9b97-01fd61c4eebc",
   "metadata": {},
   "source": [
    "## Data Preprocessing"
   ]
  },
  {
   "cell_type": "code",
   "execution_count": 12,
   "id": "cbd07ef2-a02b-4967-9e6d-c0fbc60f9336",
   "metadata": {},
   "outputs": [
    {
     "data": {
      "text/plain": [
       "College                0\n",
       "City                   0\n",
       "Role                   0\n",
       "Previous CTC           0\n",
       "Previous job change    0\n",
       "Graduation Marks       0\n",
       "EXP (Month)            0\n",
       "CTC                    0\n",
       "dtype: int64"
      ]
     },
     "execution_count": 12,
     "metadata": {},
     "output_type": "execute_result"
    }
   ],
   "source": [
    "# Checking missing values\n",
    "df.isna().sum()"
   ]
  },
  {
   "cell_type": "code",
   "execution_count": 13,
   "id": "c0a4483a-97b7-4361-9db5-4b0897131d53",
   "metadata": {},
   "outputs": [
    {
     "name": "stdout",
     "output_type": "stream",
     "text": [
      "<class 'pandas.core.frame.DataFrame'>\n",
      "RangeIndex: 1589 entries, 0 to 1588\n",
      "Data columns (total 8 columns):\n",
      " #   Column               Non-Null Count  Dtype  \n",
      "---  ------               --------------  -----  \n",
      " 0   College              1589 non-null   int64  \n",
      " 1   City                 1589 non-null   int64  \n",
      " 2   Role                 1589 non-null   object \n",
      " 3   Previous CTC         1589 non-null   float64\n",
      " 4   Previous job change  1589 non-null   int64  \n",
      " 5   Graduation Marks     1589 non-null   int64  \n",
      " 6   EXP (Month)          1589 non-null   int64  \n",
      " 7   CTC                  1589 non-null   float64\n",
      "dtypes: float64(2), int64(5), object(1)\n",
      "memory usage: 99.4+ KB\n"
     ]
    }
   ],
   "source": [
    "# Information about data\n",
    "df.info()"
   ]
  },
  {
   "cell_type": "code",
   "execution_count": 14,
   "id": "b8f4d954-8d2b-4807-b733-ede9849e4aa3",
   "metadata": {},
   "outputs": [
    {
     "data": {
      "text/html": [
       "<div>\n",
       "<style scoped>\n",
       "    .dataframe tbody tr th:only-of-type {\n",
       "        vertical-align: middle;\n",
       "    }\n",
       "\n",
       "    .dataframe tbody tr th {\n",
       "        vertical-align: top;\n",
       "    }\n",
       "\n",
       "    .dataframe thead th {\n",
       "        text-align: right;\n",
       "    }\n",
       "</style>\n",
       "<table border=\"1\" class=\"dataframe\">\n",
       "  <thead>\n",
       "    <tr style=\"text-align: right;\">\n",
       "      <th></th>\n",
       "      <th>College</th>\n",
       "      <th>City</th>\n",
       "      <th>Previous CTC</th>\n",
       "      <th>Previous job change</th>\n",
       "      <th>Graduation Marks</th>\n",
       "      <th>EXP (Month)</th>\n",
       "      <th>CTC</th>\n",
       "    </tr>\n",
       "  </thead>\n",
       "  <tbody>\n",
       "    <tr>\n",
       "      <th>count</th>\n",
       "      <td>1589.000000</td>\n",
       "      <td>1589.000000</td>\n",
       "      <td>1589.000000</td>\n",
       "      <td>1589.000000</td>\n",
       "      <td>1589.000000</td>\n",
       "      <td>1589.000000</td>\n",
       "      <td>1589.000000</td>\n",
       "    </tr>\n",
       "    <tr>\n",
       "      <th>mean</th>\n",
       "      <td>1.975456</td>\n",
       "      <td>0.514160</td>\n",
       "      <td>55518.453744</td>\n",
       "      <td>2.528634</td>\n",
       "      <td>59.855255</td>\n",
       "      <td>39.044682</td>\n",
       "      <td>75353.278798</td>\n",
       "    </tr>\n",
       "    <tr>\n",
       "      <th>std</th>\n",
       "      <td>0.838330</td>\n",
       "      <td>0.499957</td>\n",
       "      <td>6655.218445</td>\n",
       "      <td>1.123918</td>\n",
       "      <td>14.935139</td>\n",
       "      <td>14.108875</td>\n",
       "      <td>12587.288237</td>\n",
       "    </tr>\n",
       "    <tr>\n",
       "      <th>min</th>\n",
       "      <td>1.000000</td>\n",
       "      <td>0.000000</td>\n",
       "      <td>36990.000000</td>\n",
       "      <td>1.000000</td>\n",
       "      <td>35.000000</td>\n",
       "      <td>18.000000</td>\n",
       "      <td>53020.320000</td>\n",
       "    </tr>\n",
       "    <tr>\n",
       "      <th>25%</th>\n",
       "      <td>1.000000</td>\n",
       "      <td>0.000000</td>\n",
       "      <td>50518.000000</td>\n",
       "      <td>2.000000</td>\n",
       "      <td>46.000000</td>\n",
       "      <td>26.000000</td>\n",
       "      <td>66902.350000</td>\n",
       "    </tr>\n",
       "    <tr>\n",
       "      <th>50%</th>\n",
       "      <td>2.000000</td>\n",
       "      <td>1.000000</td>\n",
       "      <td>55291.000000</td>\n",
       "      <td>3.000000</td>\n",
       "      <td>60.000000</td>\n",
       "      <td>39.000000</td>\n",
       "      <td>73028.670000</td>\n",
       "    </tr>\n",
       "    <tr>\n",
       "      <th>75%</th>\n",
       "      <td>3.000000</td>\n",
       "      <td>1.000000</td>\n",
       "      <td>60109.000000</td>\n",
       "      <td>4.000000</td>\n",
       "      <td>73.000000</td>\n",
       "      <td>51.000000</td>\n",
       "      <td>80588.670000</td>\n",
       "    </tr>\n",
       "    <tr>\n",
       "      <th>max</th>\n",
       "      <td>3.000000</td>\n",
       "      <td>1.000000</td>\n",
       "      <td>77911.000000</td>\n",
       "      <td>4.000000</td>\n",
       "      <td>85.000000</td>\n",
       "      <td>64.000000</td>\n",
       "      <td>123416.990000</td>\n",
       "    </tr>\n",
       "  </tbody>\n",
       "</table>\n",
       "</div>"
      ],
      "text/plain": [
       "           College         City  Previous CTC  Previous job change  \\\n",
       "count  1589.000000  1589.000000   1589.000000          1589.000000   \n",
       "mean      1.975456     0.514160  55518.453744             2.528634   \n",
       "std       0.838330     0.499957   6655.218445             1.123918   \n",
       "min       1.000000     0.000000  36990.000000             1.000000   \n",
       "25%       1.000000     0.000000  50518.000000             2.000000   \n",
       "50%       2.000000     1.000000  55291.000000             3.000000   \n",
       "75%       3.000000     1.000000  60109.000000             4.000000   \n",
       "max       3.000000     1.000000  77911.000000             4.000000   \n",
       "\n",
       "       Graduation Marks  EXP (Month)            CTC  \n",
       "count       1589.000000  1589.000000    1589.000000  \n",
       "mean          59.855255    39.044682   75353.278798  \n",
       "std           14.935139    14.108875   12587.288237  \n",
       "min           35.000000    18.000000   53020.320000  \n",
       "25%           46.000000    26.000000   66902.350000  \n",
       "50%           60.000000    39.000000   73028.670000  \n",
       "75%           73.000000    51.000000   80588.670000  \n",
       "max           85.000000    64.000000  123416.990000  "
      ]
     },
     "execution_count": 14,
     "metadata": {},
     "output_type": "execute_result"
    }
   ],
   "source": [
    "# Statistical info about numerical data\n",
    "df.describe()"
   ]
  },
  {
   "cell_type": "code",
   "execution_count": 15,
   "id": "6bdc8341-3f5e-4ef5-bd00-1fa01b6ce415",
   "metadata": {},
   "outputs": [
    {
     "data": {
      "text/html": [
       "<div>\n",
       "<style scoped>\n",
       "    .dataframe tbody tr th:only-of-type {\n",
       "        vertical-align: middle;\n",
       "    }\n",
       "\n",
       "    .dataframe tbody tr th {\n",
       "        vertical-align: top;\n",
       "    }\n",
       "\n",
       "    .dataframe thead th {\n",
       "        text-align: right;\n",
       "    }\n",
       "</style>\n",
       "<table border=\"1\" class=\"dataframe\">\n",
       "  <thead>\n",
       "    <tr style=\"text-align: right;\">\n",
       "      <th></th>\n",
       "      <th>College</th>\n",
       "      <th>City</th>\n",
       "      <th>Previous CTC</th>\n",
       "      <th>Previous job change</th>\n",
       "      <th>Graduation Marks</th>\n",
       "      <th>EXP (Month)</th>\n",
       "      <th>CTC</th>\n",
       "      <th>Role_Manager</th>\n",
       "    </tr>\n",
       "  </thead>\n",
       "  <tbody>\n",
       "    <tr>\n",
       "      <th>0</th>\n",
       "      <td>2</td>\n",
       "      <td>0</td>\n",
       "      <td>55523.0</td>\n",
       "      <td>3</td>\n",
       "      <td>66</td>\n",
       "      <td>19</td>\n",
       "      <td>71406.58</td>\n",
       "      <td>1</td>\n",
       "    </tr>\n",
       "    <tr>\n",
       "      <th>1</th>\n",
       "      <td>2</td>\n",
       "      <td>0</td>\n",
       "      <td>57081.0</td>\n",
       "      <td>1</td>\n",
       "      <td>84</td>\n",
       "      <td>18</td>\n",
       "      <td>68005.87</td>\n",
       "      <td>0</td>\n",
       "    </tr>\n",
       "    <tr>\n",
       "      <th>2</th>\n",
       "      <td>3</td>\n",
       "      <td>0</td>\n",
       "      <td>60347.0</td>\n",
       "      <td>2</td>\n",
       "      <td>52</td>\n",
       "      <td>28</td>\n",
       "      <td>76764.02</td>\n",
       "      <td>0</td>\n",
       "    </tr>\n",
       "    <tr>\n",
       "      <th>3</th>\n",
       "      <td>3</td>\n",
       "      <td>0</td>\n",
       "      <td>49010.0</td>\n",
       "      <td>2</td>\n",
       "      <td>81</td>\n",
       "      <td>33</td>\n",
       "      <td>82092.39</td>\n",
       "      <td>0</td>\n",
       "    </tr>\n",
       "    <tr>\n",
       "      <th>4</th>\n",
       "      <td>1</td>\n",
       "      <td>0</td>\n",
       "      <td>57879.0</td>\n",
       "      <td>4</td>\n",
       "      <td>74</td>\n",
       "      <td>32</td>\n",
       "      <td>73878.10</td>\n",
       "      <td>0</td>\n",
       "    </tr>\n",
       "  </tbody>\n",
       "</table>\n",
       "</div>"
      ],
      "text/plain": [
       "   College  City  Previous CTC  Previous job change  Graduation Marks  \\\n",
       "0        2     0       55523.0                    3                66   \n",
       "1        2     0       57081.0                    1                84   \n",
       "2        3     0       60347.0                    2                52   \n",
       "3        3     0       49010.0                    2                81   \n",
       "4        1     0       57879.0                    4                74   \n",
       "\n",
       "   EXP (Month)       CTC  Role_Manager  \n",
       "0           19  71406.58             1  \n",
       "1           18  68005.87             0  \n",
       "2           28  76764.02             0  \n",
       "3           33  82092.39             0  \n",
       "4           32  73878.10             0  "
      ]
     },
     "execution_count": 15,
     "metadata": {},
     "output_type": "execute_result"
    }
   ],
   "source": [
    "# Converting Categorical column Role into numerical\n",
    "df = pd.get_dummies(df,drop_first=True,dtype=int)\n",
    "df.head()"
   ]
  },
  {
   "cell_type": "markdown",
   "id": "96ed1bdf-75ab-4bf2-b0c9-2ddb36cf793b",
   "metadata": {},
   "source": [
    "## Checking Outliers"
   ]
  },
  {
   "cell_type": "code",
   "execution_count": 16,
   "id": "19d9eba6-5715-4912-a563-9109dc032fc6",
   "metadata": {},
   "outputs": [
    {
     "data": {
      "image/png": "[encoded data removed]",
      "text/plain": [
       "<Figure size 640x480 with 1 Axes>"
      ]
     },
     "metadata": {},
     "output_type": "display_data"
    },
    {
     "data": {
      "image/png": "[encoded data removed]",
      "text/plain": [
       "<Figure size 640x480 with 1 Axes>"
      ]
     },
     "metadata": {},
     "output_type": "display_data"
    },
    {
     "data": {
      "image/png": "[encoded data removed]",
      "text/plain": [
       "<Figure size 640x480 with 1 Axes>"
      ]
     },
     "metadata": {},
     "output_type": "display_data"
    },
    {
     "data": {
      "image/png": "[encoded data removed]",
      "text/plain": [
       "<Figure size 640x480 with 1 Axes>"
      ]
     },
     "metadata": {},
     "output_type": "display_data"
    },
    {
     "data": {
      "image/png": "[encoded data removed]",
      "text/plain": [
       "<Figure size 640x480 with 1 Axes>"
      ]
     },
     "metadata": {},
     "output_type": "display_data"
    },
    {
     "data": {
      "image/png": "[encoded data removed]",
      "text/plain": [
       "<Figure size 640x480 with 1 Axes>"
      ]
     },
     "metadata": {},
     "output_type": "display_data"
    },
    {
     "data": {
      "image/png": "[encoded data removed]",
      "text/plain": [
       "<Figure size 640x480 with 1 Axes>"
      ]
     },
     "metadata": {},
     "output_type": "display_data"
    },
    {
     "data": {
      "image/png": "[encoded data removed]",
      "text/plain": [
       "<Figure size 640x480 with 1 Axes>"
      ]
     },
     "metadata": {},
     "output_type": "display_data"
    }
   ],
   "source": [
    "for col in df.select_dtypes(include=np.number).columns:\n",
    "  sns.boxplot(x=df[col])\n",
    "  plt.show()"
   ]
  },
  {
   "cell_type": "markdown",
   "id": "99381117-77ad-4de9-bbcf-3b0230772695",
   "metadata": {},
   "source": [
    "## Removing Outliers"
   ]
  },
  {
   "cell_type": "code",
   "execution_count": 17,
   "id": "34bcaadf-e34f-4b2c-b763-cc17e16d2391",
   "metadata": {},
   "outputs": [
    {
     "data": {
      "text/html": [
       "<div>\n",
       "<style scoped>\n",
       "    .dataframe tbody tr th:only-of-type {\n",
       "        vertical-align: middle;\n",
       "    }\n",
       "\n",
       "    .dataframe tbody tr th {\n",
       "        vertical-align: top;\n",
       "    }\n",
       "\n",
       "    .dataframe thead th {\n",
       "        text-align: right;\n",
       "    }\n",
       "</style>\n",
       "<table border=\"1\" class=\"dataframe\">\n",
       "  <thead>\n",
       "    <tr style=\"text-align: right;\">\n",
       "      <th></th>\n",
       "      <th>College</th>\n",
       "      <th>City</th>\n",
       "      <th>Previous CTC</th>\n",
       "      <th>Previous job change</th>\n",
       "      <th>Graduation Marks</th>\n",
       "      <th>EXP (Month)</th>\n",
       "      <th>CTC</th>\n",
       "      <th>Role_Manager</th>\n",
       "    </tr>\n",
       "  </thead>\n",
       "  <tbody>\n",
       "    <tr>\n",
       "      <th>116</th>\n",
       "      <td>3</td>\n",
       "      <td>1</td>\n",
       "      <td>77911.0</td>\n",
       "      <td>1</td>\n",
       "      <td>50</td>\n",
       "      <td>58</td>\n",
       "      <td>87831.62</td>\n",
       "      <td>0</td>\n",
       "    </tr>\n",
       "    <tr>\n",
       "      <th>292</th>\n",
       "      <td>3</td>\n",
       "      <td>0</td>\n",
       "      <td>74198.0</td>\n",
       "      <td>1</td>\n",
       "      <td>57</td>\n",
       "      <td>25</td>\n",
       "      <td>99644.51</td>\n",
       "      <td>1</td>\n",
       "    </tr>\n",
       "    <tr>\n",
       "      <th>543</th>\n",
       "      <td>1</td>\n",
       "      <td>1</td>\n",
       "      <td>73856.0</td>\n",
       "      <td>1</td>\n",
       "      <td>75</td>\n",
       "      <td>54</td>\n",
       "      <td>121362.73</td>\n",
       "      <td>1</td>\n",
       "    </tr>\n",
       "    <tr>\n",
       "      <th>572</th>\n",
       "      <td>1</td>\n",
       "      <td>1</td>\n",
       "      <td>71543.0</td>\n",
       "      <td>4</td>\n",
       "      <td>82</td>\n",
       "      <td>30</td>\n",
       "      <td>61366.78</td>\n",
       "      <td>0</td>\n",
       "    </tr>\n",
       "    <tr>\n",
       "      <th>701</th>\n",
       "      <td>2</td>\n",
       "      <td>0</td>\n",
       "      <td>71549.0</td>\n",
       "      <td>4</td>\n",
       "      <td>47</td>\n",
       "      <td>50</td>\n",
       "      <td>83116.21</td>\n",
       "      <td>0</td>\n",
       "    </tr>\n",
       "    <tr>\n",
       "      <th>847</th>\n",
       "      <td>1</td>\n",
       "      <td>1</td>\n",
       "      <td>71756.0</td>\n",
       "      <td>4</td>\n",
       "      <td>67</td>\n",
       "      <td>23</td>\n",
       "      <td>72141.43</td>\n",
       "      <td>0</td>\n",
       "    </tr>\n",
       "    <tr>\n",
       "      <th>860</th>\n",
       "      <td>1</td>\n",
       "      <td>1</td>\n",
       "      <td>75785.0</td>\n",
       "      <td>4</td>\n",
       "      <td>63</td>\n",
       "      <td>37</td>\n",
       "      <td>110338.25</td>\n",
       "      <td>1</td>\n",
       "    </tr>\n",
       "    <tr>\n",
       "      <th>941</th>\n",
       "      <td>3</td>\n",
       "      <td>1</td>\n",
       "      <td>72319.0</td>\n",
       "      <td>1</td>\n",
       "      <td>51</td>\n",
       "      <td>50</td>\n",
       "      <td>63538.43</td>\n",
       "      <td>0</td>\n",
       "    </tr>\n",
       "    <tr>\n",
       "      <th>1024</th>\n",
       "      <td>1</td>\n",
       "      <td>1</td>\n",
       "      <td>72661.0</td>\n",
       "      <td>3</td>\n",
       "      <td>74</td>\n",
       "      <td>47</td>\n",
       "      <td>70238.70</td>\n",
       "      <td>0</td>\n",
       "    </tr>\n",
       "    <tr>\n",
       "      <th>1047</th>\n",
       "      <td>1</td>\n",
       "      <td>0</td>\n",
       "      <td>73214.0</td>\n",
       "      <td>4</td>\n",
       "      <td>57</td>\n",
       "      <td>22</td>\n",
       "      <td>100119.53</td>\n",
       "      <td>1</td>\n",
       "    </tr>\n",
       "    <tr>\n",
       "      <th>1067</th>\n",
       "      <td>3</td>\n",
       "      <td>0</td>\n",
       "      <td>71760.0</td>\n",
       "      <td>4</td>\n",
       "      <td>40</td>\n",
       "      <td>39</td>\n",
       "      <td>71187.52</td>\n",
       "      <td>0</td>\n",
       "    </tr>\n",
       "    <tr>\n",
       "      <th>1088</th>\n",
       "      <td>3</td>\n",
       "      <td>1</td>\n",
       "      <td>76815.0</td>\n",
       "      <td>4</td>\n",
       "      <td>75</td>\n",
       "      <td>52</td>\n",
       "      <td>82684.17</td>\n",
       "      <td>0</td>\n",
       "    </tr>\n",
       "    <tr>\n",
       "      <th>1131</th>\n",
       "      <td>2</td>\n",
       "      <td>1</td>\n",
       "      <td>74256.0</td>\n",
       "      <td>2</td>\n",
       "      <td>40</td>\n",
       "      <td>27</td>\n",
       "      <td>83023.18</td>\n",
       "      <td>0</td>\n",
       "    </tr>\n",
       "    <tr>\n",
       "      <th>1317</th>\n",
       "      <td>1</td>\n",
       "      <td>0</td>\n",
       "      <td>76070.0</td>\n",
       "      <td>2</td>\n",
       "      <td>54</td>\n",
       "      <td>18</td>\n",
       "      <td>58309.56</td>\n",
       "      <td>0</td>\n",
       "    </tr>\n",
       "    <tr>\n",
       "      <th>1332</th>\n",
       "      <td>3</td>\n",
       "      <td>1</td>\n",
       "      <td>72649.0</td>\n",
       "      <td>3</td>\n",
       "      <td>69</td>\n",
       "      <td>52</td>\n",
       "      <td>78861.46</td>\n",
       "      <td>0</td>\n",
       "    </tr>\n",
       "    <tr>\n",
       "      <th>1454</th>\n",
       "      <td>1</td>\n",
       "      <td>1</td>\n",
       "      <td>77911.0</td>\n",
       "      <td>1</td>\n",
       "      <td>50</td>\n",
       "      <td>58</td>\n",
       "      <td>87831.62</td>\n",
       "      <td>0</td>\n",
       "    </tr>\n",
       "  </tbody>\n",
       "</table>\n",
       "</div>"
      ],
      "text/plain": [
       "      College  City  Previous CTC  Previous job change  Graduation Marks  \\\n",
       "116         3     1       77911.0                    1                50   \n",
       "292         3     0       74198.0                    1                57   \n",
       "543         1     1       73856.0                    1                75   \n",
       "572         1     1       71543.0                    4                82   \n",
       "701         2     0       71549.0                    4                47   \n",
       "847         1     1       71756.0                    4                67   \n",
       "860         1     1       75785.0                    4                63   \n",
       "941         3     1       72319.0                    1                51   \n",
       "1024        1     1       72661.0                    3                74   \n",
       "1047        1     0       73214.0                    4                57   \n",
       "1067        3     0       71760.0                    4                40   \n",
       "1088        3     1       76815.0                    4                75   \n",
       "1131        2     1       74256.0                    2                40   \n",
       "1317        1     0       76070.0                    2                54   \n",
       "1332        3     1       72649.0                    3                69   \n",
       "1454        1     1       77911.0                    1                50   \n",
       "\n",
       "      EXP (Month)        CTC  Role_Manager  \n",
       "116            58   87831.62             0  \n",
       "292            25   99644.51             1  \n",
       "543            54  121362.73             1  \n",
       "572            30   61366.78             0  \n",
       "701            50   83116.21             0  \n",
       "847            23   72141.43             0  \n",
       "860            37  110338.25             1  \n",
       "941            50   63538.43             0  \n",
       "1024           47   70238.70             0  \n",
       "1047           22  100119.53             1  \n",
       "1067           39   71187.52             0  \n",
       "1088           52   82684.17             0  \n",
       "1131           27   83023.18             0  \n",
       "1317           18   58309.56             0  \n",
       "1332           52   78861.46             0  \n",
       "1454           58   87831.62             0  "
      ]
     },
     "execution_count": 17,
     "metadata": {},
     "output_type": "execute_result"
    }
   ],
   "source": [
    "# Calculate the 99th percentile value of the 'Previous CTC' column in the 'df' DataFrame.\n",
    "upper_limit = np.percentile(df['Previous CTC'], [99])[0]\n",
    "#upper_limit\n",
    "#check values that highr then upper value\n",
    "df[(df['Previous CTC'] > upper_limit)]\n",
    "#there is many values that is higher then upper limit but it is in considerable range"
   ]
  },
  {
   "cell_type": "code",
   "execution_count": 18,
   "id": "d91527f1-4ec5-439d-a45a-b2f24c23c6ae",
   "metadata": {},
   "outputs": [
    {
     "name": "stderr",
     "output_type": "stream",
     "text": [
      "C:\\Users\\Mohit\\AppData\\Local\\Temp\\ipykernel_25212\\1820157719.py:2: SettingWithCopyWarning: \n",
      "A value is trying to be set on a copy of a slice from a DataFrame\n",
      "\n",
      "See the caveats in the documentation: https://pandas.pydata.org/pandas-docs/stable/user_guide/indexing.html#returning-a-view-versus-a-copy\n",
      "  df['Previous CTC'][(df['Previous CTC'] > 3*upper_limit)] = 3*upper_limit\n"
     ]
    }
   ],
   "source": [
    "#replace values that is higher then upper limit\n",
    "df['Previous CTC'][(df['Previous CTC'] > 3*upper_limit)] = 3*upper_limit"
   ]
  },
  {
   "cell_type": "code",
   "execution_count": 19,
   "id": "91609fc2-1f0d-466b-bd72-b5216fdf865a",
   "metadata": {},
   "outputs": [
    {
     "data": {
      "text/html": [
       "<div>\n",
       "<style scoped>\n",
       "    .dataframe tbody tr th:only-of-type {\n",
       "        vertical-align: middle;\n",
       "    }\n",
       "\n",
       "    .dataframe tbody tr th {\n",
       "        vertical-align: top;\n",
       "    }\n",
       "\n",
       "    .dataframe thead th {\n",
       "        text-align: right;\n",
       "    }\n",
       "</style>\n",
       "<table border=\"1\" class=\"dataframe\">\n",
       "  <thead>\n",
       "    <tr style=\"text-align: right;\">\n",
       "      <th></th>\n",
       "      <th>College</th>\n",
       "      <th>City</th>\n",
       "      <th>Previous CTC</th>\n",
       "      <th>Previous job change</th>\n",
       "      <th>Graduation Marks</th>\n",
       "      <th>EXP (Month)</th>\n",
       "      <th>CTC</th>\n",
       "      <th>Role_Manager</th>\n",
       "    </tr>\n",
       "  </thead>\n",
       "  <tbody>\n",
       "    <tr>\n",
       "      <th>34</th>\n",
       "      <td>1</td>\n",
       "      <td>0</td>\n",
       "      <td>60894.0</td>\n",
       "      <td>4</td>\n",
       "      <td>80</td>\n",
       "      <td>28</td>\n",
       "      <td>118651.89</td>\n",
       "      <td>1</td>\n",
       "    </tr>\n",
       "    <tr>\n",
       "      <th>185</th>\n",
       "      <td>2</td>\n",
       "      <td>0</td>\n",
       "      <td>70258.0</td>\n",
       "      <td>4</td>\n",
       "      <td>38</td>\n",
       "      <td>36</td>\n",
       "      <td>115126.75</td>\n",
       "      <td>1</td>\n",
       "    </tr>\n",
       "    <tr>\n",
       "      <th>254</th>\n",
       "      <td>2</td>\n",
       "      <td>1</td>\n",
       "      <td>51912.0</td>\n",
       "      <td>2</td>\n",
       "      <td>66</td>\n",
       "      <td>50</td>\n",
       "      <td>113141.14</td>\n",
       "      <td>1</td>\n",
       "    </tr>\n",
       "    <tr>\n",
       "      <th>328</th>\n",
       "      <td>3</td>\n",
       "      <td>0</td>\n",
       "      <td>62264.0</td>\n",
       "      <td>2</td>\n",
       "      <td>52</td>\n",
       "      <td>64</td>\n",
       "      <td>114996.23</td>\n",
       "      <td>1</td>\n",
       "    </tr>\n",
       "    <tr>\n",
       "      <th>543</th>\n",
       "      <td>1</td>\n",
       "      <td>1</td>\n",
       "      <td>73856.0</td>\n",
       "      <td>1</td>\n",
       "      <td>75</td>\n",
       "      <td>54</td>\n",
       "      <td>121362.73</td>\n",
       "      <td>1</td>\n",
       "    </tr>\n",
       "    <tr>\n",
       "      <th>577</th>\n",
       "      <td>3</td>\n",
       "      <td>1</td>\n",
       "      <td>59101.0</td>\n",
       "      <td>3</td>\n",
       "      <td>56</td>\n",
       "      <td>31</td>\n",
       "      <td>113843.16</td>\n",
       "      <td>1</td>\n",
       "    </tr>\n",
       "    <tr>\n",
       "      <th>668</th>\n",
       "      <td>1</td>\n",
       "      <td>1</td>\n",
       "      <td>60476.0</td>\n",
       "      <td>1</td>\n",
       "      <td>85</td>\n",
       "      <td>62</td>\n",
       "      <td>113212.07</td>\n",
       "      <td>1</td>\n",
       "    </tr>\n",
       "    <tr>\n",
       "      <th>883</th>\n",
       "      <td>3</td>\n",
       "      <td>1</td>\n",
       "      <td>64930.0</td>\n",
       "      <td>1</td>\n",
       "      <td>66</td>\n",
       "      <td>51</td>\n",
       "      <td>114939.65</td>\n",
       "      <td>1</td>\n",
       "    </tr>\n",
       "    <tr>\n",
       "      <th>1146</th>\n",
       "      <td>1</td>\n",
       "      <td>1</td>\n",
       "      <td>61709.0</td>\n",
       "      <td>4</td>\n",
       "      <td>39</td>\n",
       "      <td>60</td>\n",
       "      <td>117207.24</td>\n",
       "      <td>1</td>\n",
       "    </tr>\n",
       "    <tr>\n",
       "      <th>1230</th>\n",
       "      <td>2</td>\n",
       "      <td>0</td>\n",
       "      <td>60298.0</td>\n",
       "      <td>1</td>\n",
       "      <td>47</td>\n",
       "      <td>52</td>\n",
       "      <td>123416.99</td>\n",
       "      <td>1</td>\n",
       "    </tr>\n",
       "    <tr>\n",
       "      <th>1240</th>\n",
       "      <td>2</td>\n",
       "      <td>1</td>\n",
       "      <td>67907.0</td>\n",
       "      <td>2</td>\n",
       "      <td>74</td>\n",
       "      <td>52</td>\n",
       "      <td>113508.80</td>\n",
       "      <td>1</td>\n",
       "    </tr>\n",
       "    <tr>\n",
       "      <th>1284</th>\n",
       "      <td>2</td>\n",
       "      <td>1</td>\n",
       "      <td>65519.0</td>\n",
       "      <td>3</td>\n",
       "      <td>55</td>\n",
       "      <td>61</td>\n",
       "      <td>117307.70</td>\n",
       "      <td>1</td>\n",
       "    </tr>\n",
       "    <tr>\n",
       "      <th>1300</th>\n",
       "      <td>2</td>\n",
       "      <td>1</td>\n",
       "      <td>59883.0</td>\n",
       "      <td>4</td>\n",
       "      <td>40</td>\n",
       "      <td>45</td>\n",
       "      <td>119585.49</td>\n",
       "      <td>1</td>\n",
       "    </tr>\n",
       "    <tr>\n",
       "      <th>1372</th>\n",
       "      <td>1</td>\n",
       "      <td>1</td>\n",
       "      <td>60894.0</td>\n",
       "      <td>4</td>\n",
       "      <td>80</td>\n",
       "      <td>28</td>\n",
       "      <td>118651.89</td>\n",
       "      <td>1</td>\n",
       "    </tr>\n",
       "    <tr>\n",
       "      <th>1523</th>\n",
       "      <td>2</td>\n",
       "      <td>1</td>\n",
       "      <td>70258.0</td>\n",
       "      <td>4</td>\n",
       "      <td>38</td>\n",
       "      <td>36</td>\n",
       "      <td>115126.75</td>\n",
       "      <td>1</td>\n",
       "    </tr>\n",
       "  </tbody>\n",
       "</table>\n",
       "</div>"
      ],
      "text/plain": [
       "      College  City  Previous CTC  Previous job change  Graduation Marks  \\\n",
       "34          1     0       60894.0                    4                80   \n",
       "185         2     0       70258.0                    4                38   \n",
       "254         2     1       51912.0                    2                66   \n",
       "328         3     0       62264.0                    2                52   \n",
       "543         1     1       73856.0                    1                75   \n",
       "577         3     1       59101.0                    3                56   \n",
       "668         1     1       60476.0                    1                85   \n",
       "883         3     1       64930.0                    1                66   \n",
       "1146        1     1       61709.0                    4                39   \n",
       "1230        2     0       60298.0                    1                47   \n",
       "1240        2     1       67907.0                    2                74   \n",
       "1284        2     1       65519.0                    3                55   \n",
       "1300        2     1       59883.0                    4                40   \n",
       "1372        1     1       60894.0                    4                80   \n",
       "1523        2     1       70258.0                    4                38   \n",
       "\n",
       "      EXP (Month)        CTC  Role_Manager  \n",
       "34             28  118651.89             1  \n",
       "185            36  115126.75             1  \n",
       "254            50  113141.14             1  \n",
       "328            64  114996.23             1  \n",
       "543            54  121362.73             1  \n",
       "577            31  113843.16             1  \n",
       "668            62  113212.07             1  \n",
       "883            51  114939.65             1  \n",
       "1146           60  117207.24             1  \n",
       "1230           52  123416.99             1  \n",
       "1240           52  113508.80             1  \n",
       "1284           61  117307.70             1  \n",
       "1300           45  119585.49             1  \n",
       "1372           28  118651.89             1  \n",
       "1523           36  115126.75             1  "
      ]
     },
     "execution_count": 19,
     "metadata": {},
     "output_type": "execute_result"
    }
   ],
   "source": [
    "#upper limit for CTC\n",
    "upper_limit2 = np.percentile(df['CTC'], [99])[0]\n",
    "\n",
    "#check values that highr then upper value\n",
    "df[(df['CTC'] > upper_limit2)]\n",
    "#there is many values that is higher then upper limit but it is in considerable range"
   ]
  },
  {
   "cell_type": "code",
   "execution_count": 20,
   "id": "4920795c-2dd9-442e-9702-a4c6d8a81fa4",
   "metadata": {},
   "outputs": [
    {
     "name": "stderr",
     "output_type": "stream",
     "text": [
      "C:\\Users\\Mohit\\AppData\\Local\\Temp\\ipykernel_25212\\3987930983.py:2: SettingWithCopyWarning: \n",
      "A value is trying to be set on a copy of a slice from a DataFrame\n",
      "\n",
      "See the caveats in the documentation: https://pandas.pydata.org/pandas-docs/stable/user_guide/indexing.html#returning-a-view-versus-a-copy\n",
      "  df['CTC'][(df['CTC'] > 3*upper_limit2)] = 3*upper_limit2\n"
     ]
    }
   ],
   "source": [
    "#replace values that is higher then upper limit\n",
    "df['CTC'][(df['CTC'] > 3*upper_limit2)] = 3*upper_limit2"
   ]
  },
  {
   "cell_type": "markdown",
   "id": "f317ec9d-844e-4851-9552-454a43445a04",
   "metadata": {},
   "source": [
    "As seen above, these are some outliers in \"CTC\" column but they are not as extreme that can make any huge difference while making prediction. Therefore in my opinion keeping those outliers into data is more useful than removing."
   ]
  },
  {
   "cell_type": "code",
   "execution_count": 21,
   "id": "df117a43-9afb-4c61-b03e-1a739307c432",
   "metadata": {},
   "outputs": [
    {
     "data": {
      "image/png": "[encoded data removed]",
      "text/plain": [
       "<Figure size 1000x800 with 2 Axes>"
      ]
     },
     "metadata": {},
     "output_type": "display_data"
    }
   ],
   "source": [
    "# Calculate the correlation matrix\n",
    "corr_matrix = df.corr()\n",
    "\n",
    "# Plot the correlation matrix as a heatmap\n",
    "plt.figure(figsize=(10, 8))\n",
    "sns.heatmap(corr_matrix, annot=True, cmap='coolwarm', fmt=\".2f\")\n",
    "plt.title('Correlation Matrix')\n",
    "plt.show()"
   ]
  },
  {
   "cell_type": "markdown",
   "id": "00235d74-638d-4b03-af54-50b9287fac33",
   "metadata": {},
   "source": [
    "# Conclusion on detection of Outliers:"
   ]
  },
  {
   "cell_type": "markdown",
   "id": "6d64aaed-29d4-4ec6-a6a4-fe344ebbfb17",
   "metadata": {},
   "source": [
    "As we see that there were such no extreme outliers present in our dataset that can make any huge difference in machine learning model. Also from describe function it is clear that there is no extreme outliers."
   ]
  },
  {
   "cell_type": "markdown",
   "id": "9977b687-ec16-4afe-9cb4-adcf626ae96a",
   "metadata": {},
   "source": [
    "As seen above in \"Previous CTC\" and \"CTC\", there are some outliers but from my perspective these are not going to affect on any model."
   ]
  },
  {
   "cell_type": "markdown",
   "id": "df64d9b0-5cf9-4926-9b16-e319313366ea",
   "metadata": {},
   "source": [
    "In the Correlation Matrix figure, there are some relation between Role_manager and CTC and Previous CTC and CTC"
   ]
  },
  {
   "cell_type": "markdown",
   "id": "16d6cada-3b0a-4121-9090-9dd765591384",
   "metadata": {},
   "source": [
    "# Applying Machine Learning models"
   ]
  },
  {
   "cell_type": "markdown",
   "id": "03cff20c-f9ee-480b-9662-5040af37dbbb",
   "metadata": {},
   "source": [
    "## Train-Test Split"
   ]
  },
  {
   "cell_type": "code",
   "execution_count": 22,
   "id": "fc231d45-53ad-446d-831f-c188a8e066c9",
   "metadata": {},
   "outputs": [
    {
     "data": {
      "text/plain": [
       "900     67487.61\n",
       "427     72477.67\n",
       "219     75535.50\n",
       "1101    82986.23\n",
       "748     73093.09\n",
       "          ...   \n",
       "379     94600.05\n",
       "963     77795.84\n",
       "878     79412.09\n",
       "442     53020.32\n",
       "231     66774.11\n",
       "Name: CTC, Length: 318, dtype: float64"
      ]
     },
     "execution_count": 22,
     "metadata": {},
     "output_type": "execute_result"
    }
   ],
   "source": [
    "# Split the dataset into features (x_multi) and the target variable (y_multi)\n",
    "x_multi = df.loc[:, df.columns != 'CTC']\n",
    "y_multi = df['CTC']\n",
    "\n",
    "# Split the data into training and testing sets\n",
    "x_train, x_test, y_train, y_test = train_test_split(x_multi, y_multi, test_size = 0.2, random_state = 0)\n",
    "y_test"
   ]
  },
  {
   "cell_type": "code",
   "execution_count": 23,
   "id": "110dbd1c-24a7-4735-9e11-e791e8cde995",
   "metadata": {},
   "outputs": [
    {
     "name": "stdout",
     "output_type": "stream",
     "text": [
      "(1271, 7) (318, 7) (1271,) (318,)\n"
     ]
    }
   ],
   "source": [
    "# Print the shapes of the training and testing sets to confirm the split\n",
    "print(x_train.shape, x_test.shape, y_train.shape, y_test.shape)"
   ]
  },
  {
   "cell_type": "markdown",
   "id": "d3644d43-7242-4065-80cb-db516c17b388",
   "metadata": {},
   "source": [
    "# Linear Regression"
   ]
  },
  {
   "cell_type": "code",
   "execution_count": 24,
   "id": "86c9a25d-1f60-4ed8-9764-111ae385b8d4",
   "metadata": {},
   "outputs": [
    {
     "data": {
      "text/html": [
       "<table class=\"simpletable\">\n",
       "<caption>OLS Regression Results</caption>\n",
       "<tr>\n",
       "  <th>Dep. Variable:</th>           <td>CTC</td>       <th>  R-squared:         </th> <td>   0.091</td> \n",
       "</tr>\n",
       "<tr>\n",
       "  <th>Model:</th>                   <td>OLS</td>       <th>  Adj. R-squared:    </th> <td>   0.090</td> \n",
       "</tr>\n",
       "<tr>\n",
       "  <th>Method:</th>             <td>Least Squares</td>  <th>  F-statistic:       </th> <td>   158.2</td> \n",
       "</tr>\n",
       "<tr>\n",
       "  <th>Date:</th>             <td>Thu, 10 Oct 2024</td> <th>  Prob (F-statistic):</th> <td>1.16e-34</td> \n",
       "</tr>\n",
       "<tr>\n",
       "  <th>Time:</th>                 <td>11:43:05</td>     <th>  Log-Likelihood:    </th> <td> -17180.</td> \n",
       "</tr>\n",
       "<tr>\n",
       "  <th>No. Observations:</th>      <td>  1589</td>      <th>  AIC:               </th> <td>3.436e+04</td>\n",
       "</tr>\n",
       "<tr>\n",
       "  <th>Df Residuals:</th>          <td>  1587</td>      <th>  BIC:               </th> <td>3.437e+04</td>\n",
       "</tr>\n",
       "<tr>\n",
       "  <th>Df Model:</th>              <td>     1</td>      <th>                     </th>     <td> </td>    \n",
       "</tr>\n",
       "<tr>\n",
       "  <th>Covariance Type:</th>      <td>nonrobust</td>    <th>                     </th>     <td> </td>    \n",
       "</tr>\n",
       "</table>\n",
       "<table class=\"simpletable\">\n",
       "<tr>\n",
       "       <td></td>          <th>coef</th>     <th>std err</th>      <th>t</th>      <th>P>|t|</th>  <th>[0.025</th>    <th>0.975]</th>  \n",
       "</tr>\n",
       "<tr>\n",
       "  <th>const</th>       <td> 6.486e+04</td> <td>  886.559</td> <td>   73.164</td> <td> 0.000</td> <td> 6.31e+04</td> <td> 6.66e+04</td>\n",
       "</tr>\n",
       "<tr>\n",
       "  <th>EXP (Month)</th> <td>  268.6413</td> <td>   21.356</td> <td>   12.579</td> <td> 0.000</td> <td>  226.753</td> <td>  310.530</td>\n",
       "</tr>\n",
       "</table>\n",
       "<table class=\"simpletable\">\n",
       "<tr>\n",
       "  <th>Omnibus:</th>       <td>313.198</td> <th>  Durbin-Watson:     </th> <td>   2.080</td> \n",
       "</tr>\n",
       "<tr>\n",
       "  <th>Prob(Omnibus):</th> <td> 0.000</td>  <th>  Jarque-Bera (JB):  </th> <td> 540.318</td> \n",
       "</tr>\n",
       "<tr>\n",
       "  <th>Skew:</th>          <td> 1.256</td>  <th>  Prob(JB):          </th> <td>4.69e-118</td>\n",
       "</tr>\n",
       "<tr>\n",
       "  <th>Kurtosis:</th>      <td> 4.361</td>  <th>  Cond. No.          </th> <td>    122.</td> \n",
       "</tr>\n",
       "</table><br/><br/>Notes:<br/>[1] Standard Errors assume that the covariance matrix of the errors is correctly specified."
      ],
      "text/latex": [
       "\\begin{center}\n",
       "\\begin{tabular}{lclc}\n",
       "\\toprule\n",
       "\\textbf{Dep. Variable:}    &       CTC        & \\textbf{  R-squared:         } &     0.091   \\\\\n",
       "\\textbf{Model:}            &       OLS        & \\textbf{  Adj. R-squared:    } &     0.090   \\\\\n",
       "\\textbf{Method:}           &  Least Squares   & \\textbf{  F-statistic:       } &     158.2   \\\\\n",
       "\\textbf{Date:}             & Thu, 10 Oct 2024 & \\textbf{  Prob (F-statistic):} &  1.16e-34   \\\\\n",
       "\\textbf{Time:}             &     11:43:05     & \\textbf{  Log-Likelihood:    } &   -17180.   \\\\\n",
       "\\textbf{No. Observations:} &        1589      & \\textbf{  AIC:               } & 3.436e+04   \\\\\n",
       "\\textbf{Df Residuals:}     &        1587      & \\textbf{  BIC:               } & 3.437e+04   \\\\\n",
       "\\textbf{Df Model:}         &           1      & \\textbf{                     } &             \\\\\n",
       "\\textbf{Covariance Type:}  &    nonrobust     & \\textbf{                     } &             \\\\\n",
       "\\bottomrule\n",
       "\\end{tabular}\n",
       "\\begin{tabular}{lcccccc}\n",
       "                     & \\textbf{coef} & \\textbf{std err} & \\textbf{t} & \\textbf{P$> |$t$|$} & \\textbf{[0.025} & \\textbf{0.975]}  \\\\\n",
       "\\midrule\n",
       "\\textbf{const}       &    6.486e+04  &      886.559     &    73.164  &         0.000        &     6.31e+04    &     6.66e+04     \\\\\n",
       "\\textbf{EXP (Month)} &     268.6413  &       21.356     &    12.579  &         0.000        &      226.753    &      310.530     \\\\\n",
       "\\bottomrule\n",
       "\\end{tabular}\n",
       "\\begin{tabular}{lclc}\n",
       "\\textbf{Omnibus:}       & 313.198 & \\textbf{  Durbin-Watson:     } &     2.080  \\\\\n",
       "\\textbf{Prob(Omnibus):} &   0.000 & \\textbf{  Jarque-Bera (JB):  } &   540.318  \\\\\n",
       "\\textbf{Skew:}          &   1.256 & \\textbf{  Prob(JB):          } & 4.69e-118  \\\\\n",
       "\\textbf{Kurtosis:}      &   4.361 & \\textbf{  Cond. No.          } &      122.  \\\\\n",
       "\\bottomrule\n",
       "\\end{tabular}\n",
       "%\\caption{OLS Regression Results}\n",
       "\\end{center}\n",
       "\n",
       "Notes: \\newline\n",
       " [1] Standard Errors assume that the covariance matrix of the errors is correctly specified."
      ],
      "text/plain": [
       "<class 'statsmodels.iolib.summary.Summary'>\n",
       "\"\"\"\n",
       "                            OLS Regression Results                            \n",
       "==============================================================================\n",
       "Dep. Variable:                    CTC   R-squared:                       0.091\n",
       "Model:                            OLS   Adj. R-squared:                  0.090\n",
       "Method:                 Least Squares   F-statistic:                     158.2\n",
       "Date:                Thu, 10 Oct 2024   Prob (F-statistic):           1.16e-34\n",
       "Time:                        11:43:05   Log-Likelihood:                -17180.\n",
       "No. Observations:                1589   AIC:                         3.436e+04\n",
       "Df Residuals:                    1587   BIC:                         3.437e+04\n",
       "Df Model:                           1                                         \n",
       "Covariance Type:            nonrobust                                         \n",
       "===============================================================================\n",
       "                  coef    std err          t      P>|t|      [0.025      0.975]\n",
       "-------------------------------------------------------------------------------\n",
       "const        6.486e+04    886.559     73.164      0.000    6.31e+04    6.66e+04\n",
       "EXP (Month)   268.6413     21.356     12.579      0.000     226.753     310.530\n",
       "==============================================================================\n",
       "Omnibus:                      313.198   Durbin-Watson:                   2.080\n",
       "Prob(Omnibus):                  0.000   Jarque-Bera (JB):              540.318\n",
       "Skew:                           1.256   Prob(JB):                    4.69e-118\n",
       "Kurtosis:                       4.361   Cond. No.                         122.\n",
       "==============================================================================\n",
       "\n",
       "Notes:\n",
       "[1] Standard Errors assume that the covariance matrix of the errors is correctly specified.\n",
       "\"\"\""
      ]
     },
     "execution_count": 24,
     "metadata": {},
     "output_type": "execute_result"
    }
   ],
   "source": [
    "# Add a constant term to perform linear regression\n",
    "x = sn.add_constant(df['EXP (Month)'])\n",
    "\n",
    "# Create an Ordinary Least Squares (OLS) model and fit it to the data\n",
    "lm = sn.OLS(df['CTC'], x).fit()\n",
    "\n",
    "# Display a summary of the linear regression model, including statistics and coefficients.\n",
    "lm.summary()"
   ]
  },
  {
   "cell_type": "markdown",
   "id": "ca8272c0-fa31-46d3-8c26-c03da11b4881",
   "metadata": {},
   "source": [
    "## Multiple Linear Regression"
   ]
  },
  {
   "cell_type": "code",
   "execution_count": 25,
   "id": "ae1edfce-9def-4030-9537-60afe1272a8f",
   "metadata": {},
   "outputs": [
    {
     "name": "stdout",
     "output_type": "stream",
     "text": [
      "Linear Regression:\n",
      "R-squared (R^2) - Train: 0.5331, Test: 0.5356\n",
      "Mean Squared Error (MSE) - Train: 75086299.7366, Test: 68909870.6995\n",
      "\n"
     ]
    }
   ],
   "source": [
    "# Create a Linear Regression model\n",
    "lm_multi = LinearRegression()\n",
    "\n",
    "# Fit the model to the training data\n",
    "lm_multi.fit(x_train, y_train)\n",
    "\n",
    "# Predicting values for the training and test datasets using a multiple linear regression model.\n",
    "y_train_lm_multi = lm_multi.predict(x_train)\n",
    "y_test_lm_multi = lm_multi.predict(x_test)\n",
    "\n",
    "# Calculating the R-squared (coefficient of determination) scores for the training and test datasets.\n",
    "r2_lm_multi_train = r2_score(y_train, y_train_lm_multi)\n",
    "r2_lm_multi_test = r2_score(y_test, y_test_lm_multi)\n",
    "\n",
    "# Calculating the Mean Squared Error (MSE) for the training and test datasets.\n",
    "mse_lm_multi_train = mean_squared_error(y_train, y_train_lm_multi)\n",
    "mse_lm_multi_test = mean_squared_error(y_test, y_test_lm_multi)\n",
    "\n",
    "#print the result\n",
    "print(\"Linear Regression:\")\n",
    "print(f\"R-squared (R^2) - Train: {r2_lm_multi_train:.4f}, Test: {r2_lm_multi_test:.4f}\")\n",
    "print(f\"Mean Squared Error (MSE) - Train: {mse_lm_multi_train:.4f}, Test: {mse_lm_multi_test:.4f}\\n\")"
   ]
  },
  {
   "cell_type": "markdown",
   "id": "30a409dd-d79a-429a-b87d-f04d3602222a",
   "metadata": {},
   "source": [
    "# Ridge Regression"
   ]
  },
  {
   "cell_type": "markdown",
   "id": "cc081275-0428-475e-be2f-b0d196bcfb93",
   "metadata": {},
   "source": [
    "Standardize data"
   ]
  },
  {
   "cell_type": "code",
   "execution_count": 26,
   "id": "86667f04-30b9-47d2-a098-e2db5c6b58c7",
   "metadata": {},
   "outputs": [],
   "source": [
    "# Standardize the data using StandardScaler from scikit-learn\n",
    "scaler = preprocessing.StandardScaler().fit(x_train)\n",
    "x_train_s = scaler.transform(x_train)\n",
    "x_test_s = scaler.transform(x_test)"
   ]
  },
  {
   "cell_type": "code",
   "execution_count": 27,
   "id": "2eb224af-b3c0-42f3-b542-3554a4f06462",
   "metadata": {},
   "outputs": [
    {
     "data": {
      "text/plain": [
       "<seaborn.axisgrid.JointGrid at 0x1e8fa994610>"
      ]
     },
     "execution_count": 27,
     "metadata": {},
     "output_type": "execute_result"
    },
    {
     "data": {
      "image/png": "[encoded data removed]",
      "text/plain": [
       "<Figure size 600x600 with 3 Axes>"
      ]
     },
     "metadata": {},
     "output_type": "display_data"
    }
   ],
   "source": [
    "# Define a range of alpha values for Ridge regression\n",
    "param_range = np.logspace(-2, 8, 100)\n",
    "\n",
    "# Perform cross-validated validation curve to find the best alpha for Ridge regression\n",
    "train_scores, valid_scores = validation_curve(\n",
    "    Ridge(), x_train_s, y_train, param_name=\"alpha\", param_range=param_range, cv=5, scoring='r2')\n",
    "\n",
    "# Calculate mean R-squared scores for training and validation sets\n",
    "train_mean = np.mean(train_scores, axis = 1)\n",
    "test_mean = np.mean(valid_scores, axis = 1)\n",
    "\n",
    "# Create a joint plot to visualize the relationship between log(alpha) and R-squared\n",
    "sns.jointplot(x=np.log(param_range), y=test_mean)"
   ]
  },
  {
   "cell_type": "code",
   "execution_count": 28,
   "id": "ee5d2e84-f7af-4ce8-9862-c47915492217",
   "metadata": {},
   "outputs": [
    {
     "data": {
      "text/html": [
       "<style>#sk-container-id-1 {color: black;}#sk-container-id-1 pre{padding: 0;}#sk-container-id-1 div.sk-toggleable {background-color: white;}#sk-container-id-1 label.sk-toggleable__label {cursor: pointer;display: block;width: 100%;margin-bottom: 0;padding: 0.3em;box-sizing: border-box;text-align: center;}#sk-container-id-1 label.sk-toggleable__label-arrow:before {content: \"▸\";float: left;margin-right: 0.25em;color: #696969;}#sk-container-id-1 label.sk-toggleable__label-arrow:hover:before {color: black;}#sk-container-id-1 div.sk-estimator:hover label.sk-toggleable__label-arrow:before {color: black;}#sk-container-id-1 div.sk-toggleable__content {max-height: 0;max-width: 0;overflow: hidden;text-align: left;background-color: #f0f8ff;}#sk-container-id-1 div.sk-toggleable__content pre {margin: 0.2em;color: black;border-radius: 0.25em;background-color: #f0f8ff;}#sk-container-id-1 input.sk-toggleable__control:checked~div.sk-toggleable__content {max-height: 200px;max-width: 100%;overflow: auto;}#sk-container-id-1 input.sk-toggleable__control:checked~label.sk-toggleable__label-arrow:before {content: \"▾\";}#sk-container-id-1 div.sk-estimator input.sk-toggleable__control:checked~label.sk-toggleable__label {background-color: #d4ebff;}#sk-container-id-1 div.sk-label input.sk-toggleable__control:checked~label.sk-toggleable__label {background-color: #d4ebff;}#sk-container-id-1 input.sk-hidden--visually {border: 0;clip: rect(1px 1px 1px 1px);clip: rect(1px, 1px, 1px, 1px);height: 1px;margin: -1px;overflow: hidden;padding: 0;position: absolute;width: 1px;}#sk-container-id-1 div.sk-estimator {font-family: monospace;background-color: #f0f8ff;border: 1px dotted black;border-radius: 0.25em;box-sizing: border-box;margin-bottom: 0.5em;}#sk-container-id-1 div.sk-estimator:hover {background-color: #d4ebff;}#sk-container-id-1 div.sk-parallel-item::after {content: \"\";width: 100%;border-bottom: 1px solid gray;flex-grow: 1;}#sk-container-id-1 div.sk-label:hover label.sk-toggleable__label {background-color: #d4ebff;}#sk-container-id-1 div.sk-serial::before {content: \"\";position: absolute;border-left: 1px solid gray;box-sizing: border-box;top: 0;bottom: 0;left: 50%;z-index: 0;}#sk-container-id-1 div.sk-serial {display: flex;flex-direction: column;align-items: center;background-color: white;padding-right: 0.2em;padding-left: 0.2em;position: relative;}#sk-container-id-1 div.sk-item {position: relative;z-index: 1;}#sk-container-id-1 div.sk-parallel {display: flex;align-items: stretch;justify-content: center;background-color: white;position: relative;}#sk-container-id-1 div.sk-item::before, #sk-container-id-1 div.sk-parallel-item::before {content: \"\";position: absolute;border-left: 1px solid gray;box-sizing: border-box;top: 0;bottom: 0;left: 50%;z-index: -1;}#sk-container-id-1 div.sk-parallel-item {display: flex;flex-direction: column;z-index: 1;position: relative;background-color: white;}#sk-container-id-1 div.sk-parallel-item:first-child::after {align-self: flex-end;width: 50%;}#sk-container-id-1 div.sk-parallel-item:last-child::after {align-self: flex-start;width: 50%;}#sk-container-id-1 div.sk-parallel-item:only-child::after {width: 0;}#sk-container-id-1 div.sk-dashed-wrapped {border: 1px dashed gray;margin: 0 0.4em 0.5em 0.4em;box-sizing: border-box;padding-bottom: 0.4em;background-color: white;}#sk-container-id-1 div.sk-label label {font-family: monospace;font-weight: bold;display: inline-block;line-height: 1.2em;}#sk-container-id-1 div.sk-label-container {text-align: center;}#sk-container-id-1 div.sk-container {/* jupyter's `normalize.less` sets `[hidden] { display: none; }` but bootstrap.min.css set `[hidden] { display: none !important; }` so we also need the `!important` here to be able to override the default hidden behavior on the sphinx rendered scikit-learn.org. See: https://github.com/scikit-learn/scikit-learn/issues/21755 */display: inline-block !important;position: relative;}#sk-container-id-1 div.sk-text-repr-fallback {display: none;}</style><div id=\"sk-container-id-1\" class=\"sk-top-container\"><div class=\"sk-text-repr-fallback\"><pre>Ridge(alpha=10.722672220103231)</pre><b>In a Jupyter environment, please rerun this cell to show the HTML representation or trust the notebook. <br />On GitHub, the HTML representation is unable to render, please try loading this page with nbviewer.org.</b></div><div class=\"sk-container\" hidden><div class=\"sk-item\"><div class=\"sk-estimator sk-toggleable\"><input class=\"sk-toggleable__control sk-hidden--visually\" id=\"sk-estimator-id-1\" type=\"checkbox\" checked><label for=\"sk-estimator-id-1\" class=\"sk-toggleable__label sk-toggleable__label-arrow\">Ridge</label><div class=\"sk-toggleable__content\"><pre>Ridge(alpha=10.722672220103231)</pre></div></div></div></div></div>"
      ],
      "text/plain": [
       "Ridge(alpha=10.722672220103231)"
      ]
     },
     "execution_count": 28,
     "metadata": {},
     "output_type": "execute_result"
    }
   ],
   "source": [
    "# Find the alpha value with the highest validation R-squared\n",
    "np.where(test_mean==max(test_mean))\n",
    "\n",
    "# Train a Ridge regression model with the best alpha\n",
    "lm_r_best = Ridge(alpha = param_range[30])\n",
    "lm_r_best.fit(x_train_s, y_train)"
   ]
  },
  {
   "cell_type": "code",
   "execution_count": 29,
   "id": "ca2cc6e4-e38b-47da-b10a-493dd2975103",
   "metadata": {},
   "outputs": [
    {
     "name": "stdout",
     "output_type": "stream",
     "text": [
      "Ridge Regression:\n",
      "R-squared (R^2) - Train: 0.5331, Test: 0.5353\n",
      "Mean Squared Error (MSE) - Train: 75091940.4707, Test: 68959112.9972\n",
      "\n"
     ]
    }
   ],
   "source": [
    "# Predicting values for the training and test datasets using a Ridge regression model with the best hyperparameters.\n",
    "y_train_lm_r_best = lm_r_best.predict(x_train_s)\n",
    "y_test_lm_r_best = lm_r_best.predict(x_test_s)\n",
    "\n",
    "# Calculating the R-squared (coefficient of determination) scores for the training and test datasets.\n",
    "r2_lm_r_best_train = r2_score(y_train, y_train_lm_r_best)\n",
    "r2_lm_r_best_test = r2_score(y_test, y_test_lm_r_best)\n",
    "\n",
    "# Calculating the Mean Squared Error (MSE) for the training and test datasets.\n",
    "mse_lm_r_best_train = mean_squared_error(y_train, y_train_lm_r_best)\n",
    "mse_lm_r_best_test = mean_squared_error(y_test, y_test_lm_r_best)\n",
    "\n",
    "# Print the results\n",
    "print(\"Ridge Regression:\")\n",
    "print(f\"R-squared (R^2) - Train: {r2_lm_r_best_train:.4f}, Test: {r2_lm_r_best_test:.4f}\")\n",
    "print(f\"Mean Squared Error (MSE) - Train: {mse_lm_r_best_train:.4f}, Test: {mse_lm_r_best_test:.4f}\\n\")"
   ]
  },
  {
   "cell_type": "markdown",
   "id": "026b941e-55cf-41fb-9d50-5c97d4975577",
   "metadata": {},
   "source": [
    "## Lasso regression"
   ]
  },
  {
   "cell_type": "code",
   "execution_count": 30,
   "id": "e64d76be-3c77-40f2-a62f-dc0f444d6002",
   "metadata": {},
   "outputs": [
    {
     "data": {
      "text/plain": [
       "<seaborn.axisgrid.JointGrid at 0x1e8fa646440>"
      ]
     },
     "execution_count": 30,
     "metadata": {},
     "output_type": "execute_result"
    },
    {
     "data": {
      "image/png": "[encoded data removed]",
      "text/plain": [
       "<Figure size 600x600 with 3 Axes>"
      ]
     },
     "metadata": {},
     "output_type": "display_data"
    }
   ],
   "source": [
    "# Define a range of alpha values for Lasso regression\n",
    "param_range2 = np.logspace(-2,8,100)\n",
    "\n",
    "# Perform cross-validated validation curve to find the best alpha for Lasso regression\n",
    "train_score_l, valid_score_l = validation_curve(Lasso(), x_train_s, y_train, param_name=\"alpha\", param_range = param_range2, cv=5, scoring='r2')\n",
    "\n",
    "# Calculate mean R-squared scores for training and validation sets with Lasso regression\n",
    "train_mean_l = np.mean(train_score_l, axis=1)\n",
    "test_mean_l = np.mean(valid_score_l, axis=1)\n",
    "\n",
    "#Create a joint plot to visualize the relationship between log(alpha) and R-squared\n",
    "sns.jointplot(x=np.log(param_range2), y=test_mean_l)"
   ]
  },
  {
   "cell_type": "code",
   "execution_count": 31,
   "id": "c41d7c1c-34a6-4f20-8127-a9e116dfd1d4",
   "metadata": {},
   "outputs": [
    {
     "data": {
      "text/html": [
       "<style>#sk-container-id-2 {color: black;}#sk-container-id-2 pre{padding: 0;}#sk-container-id-2 div.sk-toggleable {background-color: white;}#sk-container-id-2 label.sk-toggleable__label {cursor: pointer;display: block;width: 100%;margin-bottom: 0;padding: 0.3em;box-sizing: border-box;text-align: center;}#sk-container-id-2 label.sk-toggleable__label-arrow:before {content: \"▸\";float: left;margin-right: 0.25em;color: #696969;}#sk-container-id-2 label.sk-toggleable__label-arrow:hover:before {color: black;}#sk-container-id-2 div.sk-estimator:hover label.sk-toggleable__label-arrow:before {color: black;}#sk-container-id-2 div.sk-toggleable__content {max-height: 0;max-width: 0;overflow: hidden;text-align: left;background-color: #f0f8ff;}#sk-container-id-2 div.sk-toggleable__content pre {margin: 0.2em;color: black;border-radius: 0.25em;background-color: #f0f8ff;}#sk-container-id-2 input.sk-toggleable__control:checked~div.sk-toggleable__content {max-height: 200px;max-width: 100%;overflow: auto;}#sk-container-id-2 input.sk-toggleable__control:checked~label.sk-toggleable__label-arrow:before {content: \"▾\";}#sk-container-id-2 div.sk-estimator input.sk-toggleable__control:checked~label.sk-toggleable__label {background-color: #d4ebff;}#sk-container-id-2 div.sk-label input.sk-toggleable__control:checked~label.sk-toggleable__label {background-color: #d4ebff;}#sk-container-id-2 input.sk-hidden--visually {border: 0;clip: rect(1px 1px 1px 1px);clip: rect(1px, 1px, 1px, 1px);height: 1px;margin: -1px;overflow: hidden;padding: 0;position: absolute;width: 1px;}#sk-container-id-2 div.sk-estimator {font-family: monospace;background-color: #f0f8ff;border: 1px dotted black;border-radius: 0.25em;box-sizing: border-box;margin-bottom: 0.5em;}#sk-container-id-2 div.sk-estimator:hover {background-color: #d4ebff;}#sk-container-id-2 div.sk-parallel-item::after {content: \"\";width: 100%;border-bottom: 1px solid gray;flex-grow: 1;}#sk-container-id-2 div.sk-label:hover label.sk-toggleable__label {background-color: #d4ebff;}#sk-container-id-2 div.sk-serial::before {content: \"\";position: absolute;border-left: 1px solid gray;box-sizing: border-box;top: 0;bottom: 0;left: 50%;z-index: 0;}#sk-container-id-2 div.sk-serial {display: flex;flex-direction: column;align-items: center;background-color: white;padding-right: 0.2em;padding-left: 0.2em;position: relative;}#sk-container-id-2 div.sk-item {position: relative;z-index: 1;}#sk-container-id-2 div.sk-parallel {display: flex;align-items: stretch;justify-content: center;background-color: white;position: relative;}#sk-container-id-2 div.sk-item::before, #sk-container-id-2 div.sk-parallel-item::before {content: \"\";position: absolute;border-left: 1px solid gray;box-sizing: border-box;top: 0;bottom: 0;left: 50%;z-index: -1;}#sk-container-id-2 div.sk-parallel-item {display: flex;flex-direction: column;z-index: 1;position: relative;background-color: white;}#sk-container-id-2 div.sk-parallel-item:first-child::after {align-self: flex-end;width: 50%;}#sk-container-id-2 div.sk-parallel-item:last-child::after {align-self: flex-start;width: 50%;}#sk-container-id-2 div.sk-parallel-item:only-child::after {width: 0;}#sk-container-id-2 div.sk-dashed-wrapped {border: 1px dashed gray;margin: 0 0.4em 0.5em 0.4em;box-sizing: border-box;padding-bottom: 0.4em;background-color: white;}#sk-container-id-2 div.sk-label label {font-family: monospace;font-weight: bold;display: inline-block;line-height: 1.2em;}#sk-container-id-2 div.sk-label-container {text-align: center;}#sk-container-id-2 div.sk-container {/* jupyter's `normalize.less` sets `[hidden] { display: none; }` but bootstrap.min.css set `[hidden] { display: none !important; }` so we also need the `!important` here to be able to override the default hidden behavior on the sphinx rendered scikit-learn.org. See: https://github.com/scikit-learn/scikit-learn/issues/21755 */display: inline-block !important;position: relative;}#sk-container-id-2 div.sk-text-repr-fallback {display: none;}</style><div id=\"sk-container-id-2\" class=\"sk-top-container\"><div class=\"sk-text-repr-fallback\"><pre>Lasso(alpha=86.97490026177834)</pre><b>In a Jupyter environment, please rerun this cell to show the HTML representation or trust the notebook. <br />On GitHub, the HTML representation is unable to render, please try loading this page with nbviewer.org.</b></div><div class=\"sk-container\" hidden><div class=\"sk-item\"><div class=\"sk-estimator sk-toggleable\"><input class=\"sk-toggleable__control sk-hidden--visually\" id=\"sk-estimator-id-2\" type=\"checkbox\" checked><label for=\"sk-estimator-id-2\" class=\"sk-toggleable__label sk-toggleable__label-arrow\">Lasso</label><div class=\"sk-toggleable__content\"><pre>Lasso(alpha=86.97490026177834)</pre></div></div></div></div></div>"
      ],
      "text/plain": [
       "Lasso(alpha=86.97490026177834)"
      ]
     },
     "execution_count": 31,
     "metadata": {},
     "output_type": "execute_result"
    }
   ],
   "source": [
    "# Identify the alpha value with the highest R-squared\n",
    "np.where(test_mean_l==max(test_mean_l))\n",
    "\n",
    "# Train a Lasso regression model with the best alpha\n",
    "lm_l_best = Lasso(alpha = param_range2[39])\n",
    "lm_l_best.fit(x_train_s, y_train)"
   ]
  },
  {
   "cell_type": "code",
   "execution_count": 32,
   "id": "887b15fe-2869-4aad-8622-146d5aa68268",
   "metadata": {},
   "outputs": [
    {
     "name": "stdout",
     "output_type": "stream",
     "text": [
      "Lasso Regression:\n",
      "R-squared (R^2) - Train: 0.5328, Test: 0.5364\n",
      "Mean Squared Error (MSE) - Train: 75137394.2903, Test: 68785783.2377\n",
      "\n"
     ]
    }
   ],
   "source": [
    "# Predicting values for the training and test datasets using a Lasso regression model with the best hyperparameters.\n",
    "y_train_lm_l_best = lm_l_best.predict(x_train_s)\n",
    "y_test_lm_l_best = lm_l_best.predict(x_test_s)\n",
    "\n",
    "# Calculating the R-squared (coefficient of determination) scores for the training and test datasets.\n",
    "r2_lm_l_best_train = r2_score(y_train, y_train_lm_l_best)\n",
    "r2_lm_l_best_test = r2_score(y_test, y_test_lm_l_best)\n",
    "\n",
    "# Calculating the Mean Squared Error (MSE) for the training and test datasets.\n",
    "mse_lm_l_best_train = mean_squared_error(y_train, y_train_lm_l_best)\n",
    "mse_lm_l_best_test = mean_squared_error(y_test, y_test_lm_l_best)\n",
    "\n",
    "# Print the results\n",
    "print(\"Lasso Regression:\")\n",
    "print(f\"R-squared (R^2) - Train: {r2_lm_l_best_train:.4f}, Test: {r2_lm_l_best_test:.4f}\")\n",
    "print(f\"Mean Squared Error (MSE) - Train: {mse_lm_l_best_train:.4f}, Test: {mse_lm_l_best_test:.4f}\\n\")"
   ]
  },
  {
   "cell_type": "markdown",
   "id": "99548304-3c69-4f72-8d6c-13e82f5a6f73",
   "metadata": {},
   "source": [
    "## Decision Tree Regressor"
   ]
  },
  {
   "cell_type": "code",
   "execution_count": 33,
   "id": "92454f3a-bb8e-4a3e-b73d-b39aa21918e4",
   "metadata": {},
   "outputs": [
    {
     "data": {
      "text/html": [
       "<style>#sk-container-id-3 {color: black;}#sk-container-id-3 pre{padding: 0;}#sk-container-id-3 div.sk-toggleable {background-color: white;}#sk-container-id-3 label.sk-toggleable__label {cursor: pointer;display: block;width: 100%;margin-bottom: 0;padding: 0.3em;box-sizing: border-box;text-align: center;}#sk-container-id-3 label.sk-toggleable__label-arrow:before {content: \"▸\";float: left;margin-right: 0.25em;color: #696969;}#sk-container-id-3 label.sk-toggleable__label-arrow:hover:before {color: black;}#sk-container-id-3 div.sk-estimator:hover label.sk-toggleable__label-arrow:before {color: black;}#sk-container-id-3 div.sk-toggleable__content {max-height: 0;max-width: 0;overflow: hidden;text-align: left;background-color: #f0f8ff;}#sk-container-id-3 div.sk-toggleable__content pre {margin: 0.2em;color: black;border-radius: 0.25em;background-color: #f0f8ff;}#sk-container-id-3 input.sk-toggleable__control:checked~div.sk-toggleable__content {max-height: 200px;max-width: 100%;overflow: auto;}#sk-container-id-3 input.sk-toggleable__control:checked~label.sk-toggleable__label-arrow:before {content: \"▾\";}#sk-container-id-3 div.sk-estimator input.sk-toggleable__control:checked~label.sk-toggleable__label {background-color: #d4ebff;}#sk-container-id-3 div.sk-label input.sk-toggleable__control:checked~label.sk-toggleable__label {background-color: #d4ebff;}#sk-container-id-3 input.sk-hidden--visually {border: 0;clip: rect(1px 1px 1px 1px);clip: rect(1px, 1px, 1px, 1px);height: 1px;margin: -1px;overflow: hidden;padding: 0;position: absolute;width: 1px;}#sk-container-id-3 div.sk-estimator {font-family: monospace;background-color: #f0f8ff;border: 1px dotted black;border-radius: 0.25em;box-sizing: border-box;margin-bottom: 0.5em;}#sk-container-id-3 div.sk-estimator:hover {background-color: #d4ebff;}#sk-container-id-3 div.sk-parallel-item::after {content: \"\";width: 100%;border-bottom: 1px solid gray;flex-grow: 1;}#sk-container-id-3 div.sk-label:hover label.sk-toggleable__label {background-color: #d4ebff;}#sk-container-id-3 div.sk-serial::before {content: \"\";position: absolute;border-left: 1px solid gray;box-sizing: border-box;top: 0;bottom: 0;left: 50%;z-index: 0;}#sk-container-id-3 div.sk-serial {display: flex;flex-direction: column;align-items: center;background-color: white;padding-right: 0.2em;padding-left: 0.2em;position: relative;}#sk-container-id-3 div.sk-item {position: relative;z-index: 1;}#sk-container-id-3 div.sk-parallel {display: flex;align-items: stretch;justify-content: center;background-color: white;position: relative;}#sk-container-id-3 div.sk-item::before, #sk-container-id-3 div.sk-parallel-item::before {content: \"\";position: absolute;border-left: 1px solid gray;box-sizing: border-box;top: 0;bottom: 0;left: 50%;z-index: -1;}#sk-container-id-3 div.sk-parallel-item {display: flex;flex-direction: column;z-index: 1;position: relative;background-color: white;}#sk-container-id-3 div.sk-parallel-item:first-child::after {align-self: flex-end;width: 50%;}#sk-container-id-3 div.sk-parallel-item:last-child::after {align-self: flex-start;width: 50%;}#sk-container-id-3 div.sk-parallel-item:only-child::after {width: 0;}#sk-container-id-3 div.sk-dashed-wrapped {border: 1px dashed gray;margin: 0 0.4em 0.5em 0.4em;box-sizing: border-box;padding-bottom: 0.4em;background-color: white;}#sk-container-id-3 div.sk-label label {font-family: monospace;font-weight: bold;display: inline-block;line-height: 1.2em;}#sk-container-id-3 div.sk-label-container {text-align: center;}#sk-container-id-3 div.sk-container {/* jupyter's `normalize.less` sets `[hidden] { display: none; }` but bootstrap.min.css set `[hidden] { display: none !important; }` so we also need the `!important` here to be able to override the default hidden behavior on the sphinx rendered scikit-learn.org. See: https://github.com/scikit-learn/scikit-learn/issues/21755 */display: inline-block !important;position: relative;}#sk-container-id-3 div.sk-text-repr-fallback {display: none;}</style><div id=\"sk-container-id-3\" class=\"sk-top-container\"><div class=\"sk-text-repr-fallback\"><pre>DecisionTreeRegressor(max_depth=3)</pre><b>In a Jupyter environment, please rerun this cell to show the HTML representation or trust the notebook. <br />On GitHub, the HTML representation is unable to render, please try loading this page with nbviewer.org.</b></div><div class=\"sk-container\" hidden><div class=\"sk-item\"><div class=\"sk-estimator sk-toggleable\"><input class=\"sk-toggleable__control sk-hidden--visually\" id=\"sk-estimator-id-3\" type=\"checkbox\" checked><label for=\"sk-estimator-id-3\" class=\"sk-toggleable__label sk-toggleable__label-arrow\">DecisionTreeRegressor</label><div class=\"sk-toggleable__content\"><pre>DecisionTreeRegressor(max_depth=3)</pre></div></div></div></div></div>"
      ],
      "text/plain": [
       "DecisionTreeRegressor(max_depth=3)"
      ]
     },
     "execution_count": 33,
     "metadata": {},
     "output_type": "execute_result"
    }
   ],
   "source": [
    "# Create a DecisionTreeRegressor with a maximum depth of 3 and fit it to the training data\n",
    "regtree = tree.DecisionTreeRegressor(max_depth = 3)\n",
    "regtree.fit(x_train, y_train)"
   ]
  },
  {
   "cell_type": "code",
   "execution_count": 34,
   "id": "96f6ae06-676c-461d-8795-5d08e7a4080e",
   "metadata": {},
   "outputs": [
    {
     "name": "stdout",
     "output_type": "stream",
     "text": [
      "Decision Tree Regression:\n",
      "R-squared (R^2) - Train: 0.6137, Test: 0.5928\n",
      "Mean Squared Error (MSE) - Train: 62125086.3121, Test: 60424631.0261\n",
      "\n"
     ]
    }
   ],
   "source": [
    "# Predicting values for the training and test datasets using a regression tree model.\n",
    "y_train_regtree = regtree.predict(x_train)\n",
    "y_test_regtree = regtree.predict(x_test)\n",
    "\n",
    "# Calculating the R-squared (coefficient of determination) scores for the training and test datasets.\n",
    "r2_regtree_train = r2_score(y_train, y_train_regtree)\n",
    "r2_regtree_test = r2_score(y_test, y_test_regtree)\n",
    "\n",
    "# Calculating the Mean Squared Error (MSE) for the training and test datasets.\n",
    "mse_regtree_train = mean_squared_error(y_train, y_train_regtree)\n",
    "mse_regtree_test = mean_squared_error(y_test, y_test_regtree)\n",
    "\n",
    "# Print the results\n",
    "print(\"Decision Tree Regression:\")\n",
    "print(f\"R-squared (R^2) - Train: {r2_regtree_train:.4f}, Test: {r2_regtree_test:.4f}\")\n",
    "print(f\"Mean Squared Error (MSE) - Train: {mse_regtree_train:.4f}, Test: {mse_regtree_test:.4f}\\n\")"
   ]
  },
  {
   "cell_type": "markdown",
   "id": "86df7d84-2b49-479b-81e5-4a1c046b2dec",
   "metadata": {},
   "source": [
    "## Decision Tree Regression with GridSearchCV"
   ]
  },
  {
   "cell_type": "code",
   "execution_count": 35,
   "id": "33b9e9a1-2ada-4b7e-8090-353f5965c872",
   "metadata": {},
   "outputs": [
    {
     "name": "stdout",
     "output_type": "stream",
     "text": [
      "Best Hyperparameters:  {'max_depth': 4, 'min_samples_leaf': 1, 'min_samples_split': 2}\n",
      "Decision Tree Regression With GridSearchCV:\n",
      "R-squared (R^2) - Train: 0.6398, Test: 0.6032\n",
      "Mean Squared Error (MSE) - Train: 57933285.6436, Test: 58875901.6901\n",
      "\n"
     ]
    }
   ],
   "source": [
    "# Define the hyperparameters and their possible values\n",
    "param_grid = {\n",
    "    'max_depth': [2, 3, 4, 5],  # List of possible maximum depths\n",
    "    'min_samples_split': [2,4, 5,6, 10],  # List of possible values for minimum samples required to split a node\n",
    "    'min_samples_leaf': [1, 2, 4,6,8]  # List of possible values for minimum samples required at a leaf node\n",
    "}\n",
    "\n",
    "# Create a DecisionTreeRegressor\n",
    "regtree_gs = tree.DecisionTreeRegressor()\n",
    "\n",
    "# Create the GridSearchCV object\n",
    "grid_search = GridSearchCV(regtree_gs, param_grid, cv=5, scoring='neg_mean_squared_error', n_jobs=-1)\n",
    "\n",
    "# Fit the GridSearchCV to the training data\n",
    "grid_search.fit(x_train, y_train)\n",
    "\n",
    "# Print the best hyperparameters and corresponding mean squared error\n",
    "print(\"Best Hyperparameters: \", grid_search.best_params_)\n",
    "\n",
    "# Get the best estimator (DecisionTreeRegressor) with the best hyperparameters\n",
    "best_regtree = grid_search.best_estimator_\n",
    "\n",
    "# Use the best estimator to make predictions\n",
    "y_train_pred = best_regtree.predict(x_train)\n",
    "y_test_pred = best_regtree.predict(x_test)\n",
    "\n",
    "# Calculate the R-squared scores for training data\n",
    "r2_train_dt = r2_score(y_train, y_train_pred)\n",
    "\n",
    "# Calculate the R-squared scores for testing data\n",
    "r2_test_dt = r2_score(y_test, y_test_pred)\n",
    "\n",
    "# Calculate the Mean Squared Error for training data\n",
    "mse_train_dt = mean_squared_error(y_train, y_train_pred)\n",
    "\n",
    "# Calculate the Mean Squared Error for testing data\n",
    "mse_test_dt = mean_squared_error(y_test, y_test_pred)\n",
    "\n",
    "# Print the results\n",
    "print(\"Decision Tree Regression With GridSearchCV:\")\n",
    "print(f\"R-squared (R^2) - Train: {r2_train_dt:.4f}, Test: {r2_test_dt:.4f}\")\n",
    "print(f\"Mean Squared Error (MSE) - Train: {mse_train_dt:.4f}, Test: {mse_test_dt:.4f}\\n\")"
   ]
  },
  {
   "cell_type": "markdown",
   "id": "71f46243-e5d7-41fc-bf0e-f6f82d074672",
   "metadata": {},
   "source": [
    "## Random Forest Regressor"
   ]
  },
  {
   "cell_type": "code",
   "execution_count": 36,
   "id": "bdb92f71-42df-4fbf-ac22-349c3a0c7f7d",
   "metadata": {},
   "outputs": [
    {
     "name": "stdout",
     "output_type": "stream",
     "text": [
      "Best Hyperparameters:  {'max_depth': 30, 'min_samples_leaf': 2, 'min_samples_split': 5, 'n_estimators': 300}\n",
      "Random Forest Regressor:\n",
      "R-squared (R^2) - Train: 0.8973, Test: 0.6551\n",
      "Mean Squared Error (MSE) - Train: 16518254.6464, Test: 51174778.1652\n",
      "\n"
     ]
    }
   ],
   "source": [
    "# Define the hyperparameters and their possible values\n",
    "param_grid = {\n",
    "    'n_estimators': [100,  300],  # Number of trees in the forest\n",
    "    'max_depth': [20, 30],  # Maximum depth of the trees\n",
    "    'min_samples_split': [5, 10],  # Minimum samples required to split a node\n",
    "    'min_samples_leaf': [ 2, 4]  # Minimum samples required at a leaf node\n",
    "}\n",
    "\n",
    "# Create a RandomForestRegressor\n",
    "rf_gs = RandomForestRegressor()\n",
    "\n",
    "# Create the GridSearchCV object\n",
    "grid_search = GridSearchCV(rf_gs, param_grid, cv=5, scoring='neg_mean_squared_error', n_jobs=-1)\n",
    "\n",
    "# Fit the GridSearchCV to the training data\n",
    "grid_search.fit(x_train, y_train)\n",
    "\n",
    "# Print the best hyperparameters and corresponding mean squared error\n",
    "print(\"Best Hyperparameters: \", grid_search.best_params_)\n",
    "\n",
    "# Get the best estimator (RandomForestRegressor) with the best hyperparameters\n",
    "best_rf = grid_search.best_estimator_\n",
    "\n",
    "# Use the best estimator to make predictions\n",
    "y_train_pred = best_rf.predict(x_train)\n",
    "y_test_pred = best_rf.predict(x_test)\n",
    "\n",
    "# Calculate the R-squared scores for training data\n",
    "r2_train_rf = r2_score(y_train, y_train_pred)\n",
    "\n",
    "# Calculate the R-squared scores for testing data\n",
    "r2_test_rf = r2_score(y_test, y_test_pred)\n",
    "\n",
    "# Calculate the Mean Squared Error for training data\n",
    "mse_train_rf = mean_squared_error(y_train, y_train_pred)\n",
    "\n",
    "# Calculate the Mean Squared Error for testing data\n",
    "mse_test_rf = mean_squared_error(y_test, y_test_pred)\n",
    "\n",
    "# Print the results\n",
    "print(\"Random Forest Regressor:\")\n",
    "print(f\"R-squared (R^2) - Train: {r2_train_rf:.4f}, Test: {r2_test_rf:.4f}\")\n",
    "print(f\"Mean Squared Error (MSE) - Train: {mse_train_rf:.4f}, Test: {mse_test_rf:.4f}\\n\")"
   ]
  },
  {
   "cell_type": "code",
   "execution_count": 37,
   "id": "747ac091-da70-454c-ba70-f6dcca6d03c2",
   "metadata": {},
   "outputs": [
    {
     "name": "stdout",
     "output_type": "stream",
     "text": [
      "R-squared (R^2) - Train: 0.8948, Test: 0.5861\n",
      "Mean Squared Error (MSE) - Train: 17204683.8636, Test: 59384590.6568\n",
      "\n",
      "Mean R-squared (R2) for Cross-Validation: 0.6017\n",
      "Mean Mean Squared Error (MSE) for Cross-Validation: 64555058.8635\n"
     ]
    }
   ],
   "source": [
    "# Splitting data into training and testing sets\n",
    "x_train, x_test, y_train, y_test = train_test_split(x_train, y_train, test_size=0.2, random_state=42)\n",
    "\n",
    "# Define the RandomForestRegressor with the best hyperparameters\n",
    "best_rf = RandomForestRegressor(n_estimators=300, max_depth=30, min_samples_split=5, min_samples_leaf=2)\n",
    "\n",
    "# Fit the model on the training data\n",
    "best_rf.fit(x_train, y_train)\n",
    "\n",
    "# Make predictions on training and testing sets\n",
    "y_train_pred = best_rf.predict(x_train)\n",
    "y_test_pred = best_rf.predict(x_test)\n",
    "\n",
    "# Calculate R-squared scores for training and testing data\n",
    "r2_train = r2_score(y_train, y_train_pred)\n",
    "r2_test = r2_score(y_test, y_test_pred)\n",
    "\n",
    "# Calculate Mean Squared Error for training and testing data\n",
    "mse_train = mean_squared_error(y_train, y_train_pred)\n",
    "mse_test = mean_squared_error(y_test, y_test_pred)\n",
    "\n",
    "# Print the results\n",
    "print(f\"R-squared (R^2) - Train: {r2_train:.4f}, Test: {r2_test:.4f}\")\n",
    "print(f\"Mean Squared Error (MSE) - Train: {mse_train:.4f}, Test: {mse_test:.4f}\\n\")\n",
    "\n",
    "# Perform cross-validation to calculate training and validation scores\n",
    "cv_scores = cross_val_score(best_rf, x_train, y_train, cv=5, scoring='r2')\n",
    "cv_mse = -cross_val_score(best_rf, x_train, y_train, cv=5, scoring='neg_mean_squared_error')\n",
    "\n",
    "# Calculate mean R-squared and MSE for cross-validation\n",
    "mean_cv_r2 = cv_scores.mean()\n",
    "mean_cv_mse = cv_mse.mean()\n",
    "\n",
    "# Print cross-validation results\n",
    "print(f\"Mean R-squared (R2) for Cross-Validation: {mean_cv_r2:.4f}\")\n",
    "print(f\"Mean Mean Squared Error (MSE) for Cross-Validation: {mean_cv_mse:.4f}\")"
   ]
  },
  {
   "cell_type": "markdown",
   "id": "f3237ac1-9a7d-4024-a5e3-97f5453f2074",
   "metadata": {},
   "source": [
    "## XG Boost Regressor"
   ]
  },
  {
   "cell_type": "code",
   "execution_count": 38,
   "id": "043b5e21-70db-45bd-9f2b-3f6d70f18ab9",
   "metadata": {},
   "outputs": [],
   "source": [
    "from xgboost import XGBRegressor"
   ]
  },
  {
   "cell_type": "code",
   "execution_count": 39,
   "id": "7d8106bb-1e76-466a-a976-7c89dc14a246",
   "metadata": {},
   "outputs": [
    {
     "name": "stdout",
     "output_type": "stream",
     "text": [
      "Best Hyperparameters:  {'learning_rate': 0.01, 'max_depth': 3, 'min_child_weight': 3, 'n_estimators': 300}\n",
      "XG Boost Regressor:\n",
      "R-squared (R^2) - Train: 0.6531, Test: 0.5930\n",
      "Mean Squared Error (MSE) - Train: 56711969.5229, Test: 58393410.5962\n",
      "\n"
     ]
    }
   ],
   "source": [
    "# Define the hyperparameters and their possible values\n",
    "param_grid = {\n",
    "    'n_estimators': [100, 200, 300],  # Number of boosting rounds\n",
    "    'max_depth': [3, 4, 5],  # Maximum depth of the trees\n",
    "    'learning_rate': [0.01, 0.1, 0.2],  # Learning rate\n",
    "    'min_child_weight': [1, 2, 3],  # Minimum sum of instance weight (hessian) needed in a child\n",
    "}\n",
    "\n",
    "# Create an XGBRegressor\n",
    "xgb_gs = XGBRegressor()\n",
    "\n",
    "# Create the GridSearchCV object with R2 scoring\n",
    "grid_search = GridSearchCV(xgb_gs, param_grid, cv=5, scoring='r2', n_jobs=-1)\n",
    "\n",
    "# Fit the GridSearchCV to the training data\n",
    "grid_search.fit(x_train, y_train)\n",
    "\n",
    "# Print the best hyperparameters and corresponding R-squared\n",
    "print(\"Best Hyperparameters: \", grid_search.best_params_)\n",
    "\n",
    "best_xgb_param = grid_search.best_params_\n",
    "# Get the best estimator (XGBRegressor) with the best hyperparameters\n",
    "best_xgb = grid_search.best_estimator_\n",
    "\n",
    "# Use the best estimator to make predictions\n",
    "y_train_pred = best_xgb.predict(x_train)\n",
    "y_test_pred = best_xgb.predict(x_test)\n",
    "\n",
    "# Calculate the R-squared scores for training data\n",
    "r2_train_xgb = r2_score(y_train, y_train_pred)\n",
    "\n",
    "# Calculate the R-squared scores for testing data\n",
    "r2_test_xgb = r2_score(y_test, y_test_pred)\n",
    "\n",
    "# Calculate the Mean Squared Error for training data\n",
    "mse_train_xgb = mean_squared_error(y_train, y_train_pred)\n",
    "\n",
    "# Calculate the Mean Squared Error for testing data\n",
    "mse_test_xgb = mean_squared_error(y_test, y_test_pred)\n",
    "\n",
    "# Print the results\n",
    "print(\"XG Boost Regressor:\")\n",
    "print(f\"R-squared (R^2) - Train: {r2_train_xgb:.4f}, Test: {r2_test_xgb:.4f}\")\n",
    "print(f\"Mean Squared Error (MSE) - Train: {mse_train_xgb:.4f}, Test: {mse_test_xgb:.4f}\\n\")"
   ]
  },
  {
   "cell_type": "markdown",
   "id": "24a35c87-2233-47d7-9d68-2ec846aa3ea4",
   "metadata": {},
   "source": [
    "## Bagging Regressor"
   ]
  },
  {
   "cell_type": "code",
   "execution_count": 40,
   "id": "9761c28e-f4c5-436b-9d2b-8407ecc82c09",
   "metadata": {},
   "outputs": [
    {
     "name": "stdout",
     "output_type": "stream",
     "text": [
      "Best Hyperparameters:  {'n_estimators': 200}\n",
      "Bagging Regressorr:\n",
      "R-squared (R^2) - Train: 0.9458, Test: 0.5930\n",
      "Mean Squared Error (MSE) - Train: 8867961.0181, Test: 58404717.3167\n",
      "\n"
     ]
    }
   ],
   "source": [
    "# Create a base regression model\n",
    "base_model = DecisionTreeRegressor()\n",
    "\n",
    "# Create a BaggingRegressor with the base model\n",
    "bagging_reg = BaggingRegressor(base_model, random_state=0)\n",
    "\n",
    "# Define the hyperparameters and their possible values\n",
    "param_grid = {\n",
    "    'n_estimators': [50, 100, 150, 200]  # List of possible numbers of base models\n",
    "}\n",
    "\n",
    "# Create the GridSearchCV object\n",
    "grid_search = GridSearchCV(bagging_reg, param_grid, cv=5, scoring='r2', n_jobs=-1)\n",
    "\n",
    "# Fit the GridSearchCV to the training data\n",
    "grid_search.fit(x_train, y_train)\n",
    "\n",
    "# Print the best hyperparameters and corresponding mean squared error\n",
    "print(\"Best Hyperparameters: \", grid_search.best_params_)\n",
    "\n",
    "# Get the best estimator (BaggingRegressor) with the best hyperparameters\n",
    "best_bagging_reg = grid_search.best_estimator_\n",
    "\n",
    "# Use the best estimator to make predictions\n",
    "y_train_pred = best_bagging_reg.predict(x_train)\n",
    "y_test_pred = best_bagging_reg.predict(x_test)\n",
    "\n",
    "# Calculate the R-squared scores for training data\n",
    "r2_train_bagging_reg = r2_score(y_train, y_train_pred)\n",
    "\n",
    "# Calculate the R-squared scores for testing data\n",
    "r2_test_bagging_reg = r2_score(y_test, y_test_pred)\n",
    "\n",
    "# Calculate the Mean Squared Error for training data\n",
    "mse_train_bagging_reg = mean_squared_error(y_train, y_train_pred)\n",
    "mse_test_bagging_reg = mean_squared_error(y_test, y_test_pred)\n",
    "\n",
    "# Print the results\n",
    "print(\"Bagging Regressorr:\")\n",
    "print(f\"R-squared (R^2) - Train: {r2_train_bagging_reg:.4f}, Test: {r2_test_bagging_reg:.4f}\")\n",
    "print(f\"Mean Squared Error (MSE) - Train: {mse_train_bagging_reg:.4f}, Test: {mse_test_bagging_reg:.4f}\\n\")"
   ]
  },
  {
   "cell_type": "code",
   "execution_count": 41,
   "id": "ed00c313-ea2a-40ca-a105-6273bf435d2c",
   "metadata": {},
   "outputs": [
    {
     "name": "stdout",
     "output_type": "stream",
     "text": [
      "╒═════════════════════════════════╤═════════════════════╤════════════════════╤═══════════════╤══════════════╕\n",
      "│ Model                           │   R-squared (Train) │   R-squared (Test) │   MSE (Train) │   MSE (Test) │\n",
      "╞═════════════════════════════════╪═════════════════════╪════════════════════╪═══════════════╪══════════════╡\n",
      "│ Linear Regression               │              \u001b[31m0.5331\u001b[0m │             \u001b[31m0.5356\u001b[0m │   \u001b[32m7.50863e+07\u001b[0m │  \u001b[32m6.89099e+07\u001b[0m │\n",
      "├─────────────────────────────────┼─────────────────────┼────────────────────┼───────────────┼──────────────┤\n",
      "│ Ridge Regression                │              \u001b[31m0.5331\u001b[0m │             \u001b[31m0.5353\u001b[0m │   \u001b[32m7.50919e+07\u001b[0m │  \u001b[32m6.89591e+07\u001b[0m │\n",
      "├─────────────────────────────────┼─────────────────────┼────────────────────┼───────────────┼──────────────┤\n",
      "│ Lasso Regression                │              \u001b[31m0.5328\u001b[0m │             \u001b[31m0.5364\u001b[0m │   \u001b[32m7.51374e+07\u001b[0m │  \u001b[32m6.87858e+07\u001b[0m │\n",
      "├─────────────────────────────────┼─────────────────────┼────────────────────┼───────────────┼──────────────┤\n",
      "│ Decision Tree Regression        │              \u001b[32m0.6137\u001b[0m │             \u001b[31m0.5928\u001b[0m │   \u001b[32m6.21251e+07\u001b[0m │  \u001b[32m6.04246e+07\u001b[0m │\n",
      "├─────────────────────────────────┼─────────────────────┼────────────────────┼───────────────┼──────────────┤\n",
      "│ Decision Tree with GridSearchCV │              \u001b[32m0.6398\u001b[0m │             \u001b[32m0.6032\u001b[0m │   \u001b[32m5.79333e+07\u001b[0m │  \u001b[32m5.88759e+07\u001b[0m │\n",
      "├─────────────────────────────────┼─────────────────────┼────────────────────┼───────────────┼──────────────┤\n",
      "│ Random Forest Regressor         │              \u001b[32m0.8973\u001b[0m │             \u001b[32m0.6551\u001b[0m │   \u001b[32m1.65183e+07\u001b[0m │  \u001b[32m5.11748e+07\u001b[0m │\n",
      "├─────────────────────────────────┼─────────────────────┼────────────────────┼───────────────┼──────────────┤\n",
      "│ XG Boost Regressor              │              \u001b[32m0.6531\u001b[0m │             \u001b[31m0.593\u001b[0m  │   \u001b[32m5.6712e+07\u001b[0m  │  \u001b[32m5.83934e+07\u001b[0m │\n",
      "├─────────────────────────────────┼─────────────────────┼────────────────────┼───────────────┼──────────────┤\n",
      "│ Bagging Regressor               │              \u001b[32m0.9458\u001b[0m │             \u001b[31m0.593\u001b[0m  │   \u001b[32m8.86796e+06\u001b[0m │  \u001b[32m5.84047e+07\u001b[0m │\n",
      "╘═════════════════════════════════╧═════════════════════╧════════════════════╧═══════════════╧══════════════╛\n"
     ]
    }
   ],
   "source": [
    "# Function to colorize values based on a threshold\n",
    "from tabulate import tabulate\n",
    "from colorama import Fore, Style\n",
    "def colorize(value, threshold=0.6):\n",
    "    if value < threshold:\n",
    "        return f\"{Fore.RED}{value:.4f}{Style.RESET_ALL}\"\n",
    "    return f\"{Fore.GREEN}{value:.4f}{Style.RESET_ALL}\"\n",
    "\n",
    "# Define your headings\n",
    "headings = [\"Model\", \"R-squared (Train)\", \"R-squared (Test)\", \"MSE (Train)\", \"MSE (Test)\"]\n",
    "\n",
    "# Data for the table\n",
    "data = [\n",
    "    [\"Linear Regression\", colorize(r2_lm_multi_train), colorize(r2_lm_multi_test), colorize(mse_lm_multi_train), colorize(mse_lm_multi_test)],\n",
    "    [\"Ridge Regression\", colorize(r2_lm_r_best_train), colorize(r2_lm_r_best_test), colorize(mse_lm_r_best_train), colorize(mse_lm_r_best_test)],\n",
    "    [\"Lasso Regression\", colorize(r2_lm_l_best_train), colorize(r2_lm_l_best_test), colorize(mse_lm_l_best_train), colorize(mse_lm_l_best_test)],\n",
    "    [\"Decision Tree Regression\", colorize(r2_regtree_train), colorize(r2_regtree_test), colorize(mse_regtree_train), colorize(mse_regtree_test)],\n",
    "    [\"Decision Tree with GridSearchCV\", colorize(r2_train_dt), colorize(r2_test_dt), colorize(mse_train_dt), colorize(mse_test_dt)],\n",
    "    [\"Random Forest Regressor\", colorize(r2_train_rf), colorize(r2_test_rf), colorize(mse_train_rf), colorize(mse_test_rf)],\n",
    "    [\"XG Boost Regressor\", colorize(r2_train_xgb), colorize(r2_test_xgb), colorize(mse_train_xgb), colorize(mse_test_xgb)],\n",
    "    [\"Bagging Regressor\", colorize(r2_train_bagging_reg), colorize(r2_test_bagging_reg), colorize(mse_train_bagging_reg), colorize(mse_test_bagging_reg)],\n",
    "]\n",
    "\n",
    "# Print the table\n",
    "table = tabulate(data, headers=headings, tablefmt=\"fancy_grid\")\n",
    "print(table)"
   ]
  },
  {
   "cell_type": "markdown",
   "id": "ef49ce7a-ed87-488d-9a73-c83be4760eb2",
   "metadata": {},
   "source": [
    "## Decision and Justification"
   ]
  },
  {
   "cell_type": "markdown",
   "id": "c227466f-1c01-4cf6-99c3-1527d636201f",
   "metadata": {},
   "source": [
    "Based on the results, the Random Forest Regressor with the hyperparameters (max_depth=30, n_estimators=300) is the best performer for predicting the target variable.\n",
    "\n",
    "Here are the reasons for choosing this model:\n",
    "\n",
    "R-squared (R^2): The Random Forest Regressor achieves the highest R-squared value on the test dataset (0.6551) among all the models, indicating its strong predictive power and its ability to explain a significant portion of the variance in the target variable.\n",
    "\n",
    "Mean Squared Error (MSE): The Random Forest Regressor has the lowest test MSE (51174778.1652) compared to all other models, indicating that its predictions are closest to the actual values and that it provides the best fit for the data.\n",
    "\n",
    "Hyperparameter Optimization: The Random Forest Regressor has been fine-tuned with a max depth of 30 and 300 estimators, contributing to its outstanding performance.\n",
    "\n",
    "In conclusion, based on the results, I recommend using the Random Forest Regressor with max depth=30 and 300 estimators for your predictive tasks due to its high prediction accuracy."
   ]
  }
 ],
 "metadata": {
  "kernelspec": {
   "display_name": "Python 3 (ipykernel)",
   "language": "python",
   "name": "python3"
  },
  "language_info": {
   "codemirror_mode": {
    "name": "ipython",
    "version": 3
   },
   "file_extension": ".py",
   "mimetype": "text/x-python",
   "name": "python",
   "nbconvert_exporter": "python",
   "pygments_lexer": "ipython3",
   "version": "3.10.13"
  }
 },
 "nbformat": 4,
 "nbformat_minor": 5
}
